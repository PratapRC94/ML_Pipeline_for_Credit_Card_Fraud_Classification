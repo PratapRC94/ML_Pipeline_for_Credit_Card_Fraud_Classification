{
 "cells": [
  {
   "cell_type": "markdown",
   "id": "2bb3ac20",
   "metadata": {},
   "source": [
    "Hi Pratap! Thanks for working on this project for our team.\n",
    "\n",
    "The CEO and our investors have agreed to put our first risk assessment model utilizing lightGBM into production. Our platform works as follows: when a customer makes a loan application, they fill in some personal information, and with that, we request credit data from four credit agencies. Some of this information is used by the credit risk model to calculate the probability of default. With this probability, we determine if we provide the customer with a loan and the corresponding interest rate.\n",
    "\n",
    "Our risk team has gathered historical data from previous loan applications and placed it at the root directory of your workspace. The file is called loan_data.csv. This data is a fair representation of the data available when a customer makes a loan application through our platform. Please use this data set to create suitable input features to train and then obtain predictions from a lightGBM. We’d like you to create an end-to-end machine learning pipeline that is able to take in the data entered by the customer and provided by the credit agencies and output a probability of default utilizing a lightGBM."
   ]
  },
  {
   "cell_type": "markdown",
   "id": "a9cd6f2b",
   "metadata": {},
   "source": [
    "### Load and Split the Data\n",
    "\n",
    "The risk analysts have gathered a data set containing customers' financial and personal information and whether they have defaulted in the past. The file is located at the root of your workspace and is called loan_data.csv. The target variable is called \"default\".\n",
    "\n",
    "Please load the data and separate it into a training set containing 80% of the customers and a test set containing 20% of the customers.\n",
    "\n",
    "\n",
    "\n",
    "There are various ways in which you can split the data. For simplicity, please use the train_test_split function from scikit-learn."
   ]
  },
  {
   "cell_type": "code",
   "execution_count": 1,
   "id": "ddd59057",
   "metadata": {},
   "outputs": [],
   "source": [
    "import pandas as pd\n",
    "from sklearn.model_selection import train_test_split"
   ]
  },
  {
   "cell_type": "code",
   "execution_count": 2,
   "id": "eca02add",
   "metadata": {},
   "outputs": [
    {
     "data": {
      "text/html": [
       "<div>\n",
       "<style scoped>\n",
       "    .dataframe tbody tr th:only-of-type {\n",
       "        vertical-align: middle;\n",
       "    }\n",
       "\n",
       "    .dataframe tbody tr th {\n",
       "        vertical-align: top;\n",
       "    }\n",
       "\n",
       "    .dataframe thead th {\n",
       "        text-align: right;\n",
       "    }\n",
       "</style>\n",
       "<table border=\"1\" class=\"dataframe\">\n",
       "  <thead>\n",
       "    <tr style=\"text-align: right;\">\n",
       "      <th></th>\n",
       "      <th>new_customer</th>\n",
       "      <th>application_date</th>\n",
       "      <th>income_verification</th>\n",
       "      <th>language</th>\n",
       "      <th>date_of_birth</th>\n",
       "      <th>gender</th>\n",
       "      <th>country</th>\n",
       "      <th>loan_amount</th>\n",
       "      <th>county</th>\n",
       "      <th>city</th>\n",
       "      <th>...</th>\n",
       "      <th>credit_score_1</th>\n",
       "      <th>credit_score_2</th>\n",
       "      <th>credit_score_3</th>\n",
       "      <th>credit_score_4</th>\n",
       "      <th>nr_previous_loans</th>\n",
       "      <th>amount_previous_loans</th>\n",
       "      <th>previous_repayments</th>\n",
       "      <th>previous_early_repayments</th>\n",
       "      <th>previous_early_repayments_count</th>\n",
       "      <th>default</th>\n",
       "    </tr>\n",
       "  </thead>\n",
       "  <tbody>\n",
       "    <tr>\n",
       "      <th>0</th>\n",
       "      <td>1</td>\n",
       "      <td>2013-06-10 16:40:39</td>\n",
       "      <td>unverified</td>\n",
       "      <td>estonian</td>\n",
       "      <td>1951-11-25</td>\n",
       "      <td>female</td>\n",
       "      <td>EE</td>\n",
       "      <td>319.5582</td>\n",
       "      <td>HARJU</td>\n",
       "      <td>TALLINN</td>\n",
       "      <td>...</td>\n",
       "      <td>NaN</td>\n",
       "      <td>NaN</td>\n",
       "      <td>NaN</td>\n",
       "      <td>NaN</td>\n",
       "      <td>1</td>\n",
       "      <td>83.0852</td>\n",
       "      <td>0.0000</td>\n",
       "      <td>0.0</td>\n",
       "      <td>0</td>\n",
       "      <td>0</td>\n",
       "    </tr>\n",
       "    <tr>\n",
       "      <th>1</th>\n",
       "      <td>0</td>\n",
       "      <td>2013-06-09 15:48:57</td>\n",
       "      <td>unverified</td>\n",
       "      <td>estonian</td>\n",
       "      <td>1964-11-04</td>\n",
       "      <td>female</td>\n",
       "      <td>EE</td>\n",
       "      <td>191.7349</td>\n",
       "      <td>IDA-VIRU</td>\n",
       "      <td>KOHTLA-JARVE</td>\n",
       "      <td>...</td>\n",
       "      <td>NaN</td>\n",
       "      <td>NaN</td>\n",
       "      <td>NaN</td>\n",
       "      <td>NaN</td>\n",
       "      <td>2</td>\n",
       "      <td>255.6467</td>\n",
       "      <td>258.6256</td>\n",
       "      <td>0.0</td>\n",
       "      <td>0</td>\n",
       "      <td>0</td>\n",
       "    </tr>\n",
       "    <tr>\n",
       "      <th>2</th>\n",
       "      <td>1</td>\n",
       "      <td>2013-06-04 19:12:29</td>\n",
       "      <td>unverified</td>\n",
       "      <td>estonian</td>\n",
       "      <td>1954-11-12</td>\n",
       "      <td>female</td>\n",
       "      <td>EE</td>\n",
       "      <td>319.5582</td>\n",
       "      <td>PÄRNU</td>\n",
       "      <td>PÄRNU</td>\n",
       "      <td>...</td>\n",
       "      <td>NaN</td>\n",
       "      <td>NaN</td>\n",
       "      <td>NaN</td>\n",
       "      <td>NaN</td>\n",
       "      <td>0</td>\n",
       "      <td>0.0000</td>\n",
       "      <td>0.0000</td>\n",
       "      <td>0.0</td>\n",
       "      <td>0</td>\n",
       "      <td>1</td>\n",
       "    </tr>\n",
       "    <tr>\n",
       "      <th>3</th>\n",
       "      <td>1</td>\n",
       "      <td>2013-06-12 12:01:20</td>\n",
       "      <td>unverified</td>\n",
       "      <td>estonian</td>\n",
       "      <td>1990-03-28</td>\n",
       "      <td>female</td>\n",
       "      <td>EE</td>\n",
       "      <td>127.8233</td>\n",
       "      <td>HARJU</td>\n",
       "      <td>PALDISKI</td>\n",
       "      <td>...</td>\n",
       "      <td>NaN</td>\n",
       "      <td>NaN</td>\n",
       "      <td>NaN</td>\n",
       "      <td>NaN</td>\n",
       "      <td>1</td>\n",
       "      <td>134.2144</td>\n",
       "      <td>0.0000</td>\n",
       "      <td>0.0</td>\n",
       "      <td>0</td>\n",
       "      <td>0</td>\n",
       "    </tr>\n",
       "    <tr>\n",
       "      <th>4</th>\n",
       "      <td>1</td>\n",
       "      <td>2013-06-09 10:17:13</td>\n",
       "      <td>unverified</td>\n",
       "      <td>estonian</td>\n",
       "      <td>1987-09-29</td>\n",
       "      <td>female</td>\n",
       "      <td>EE</td>\n",
       "      <td>319.5582</td>\n",
       "      <td>TARTU</td>\n",
       "      <td>TARTU</td>\n",
       "      <td>...</td>\n",
       "      <td>NaN</td>\n",
       "      <td>NaN</td>\n",
       "      <td>NaN</td>\n",
       "      <td>NaN</td>\n",
       "      <td>1</td>\n",
       "      <td>146.9966</td>\n",
       "      <td>0.0000</td>\n",
       "      <td>0.0</td>\n",
       "      <td>0</td>\n",
       "      <td>1</td>\n",
       "    </tr>\n",
       "  </tbody>\n",
       "</table>\n",
       "<p>5 rows × 39 columns</p>\n",
       "</div>"
      ],
      "text/plain": [
       "   new_customer     application_date income_verification  language  \\\n",
       "0             1  2013-06-10 16:40:39          unverified  estonian   \n",
       "1             0  2013-06-09 15:48:57          unverified  estonian   \n",
       "2             1  2013-06-04 19:12:29          unverified  estonian   \n",
       "3             1  2013-06-12 12:01:20          unverified  estonian   \n",
       "4             1  2013-06-09 10:17:13          unverified  estonian   \n",
       "\n",
       "  date_of_birth  gender country  loan_amount    county          city  ...  \\\n",
       "0    1951-11-25  female      EE     319.5582     HARJU       TALLINN  ...   \n",
       "1    1964-11-04  female      EE     191.7349  IDA-VIRU  KOHTLA-JARVE  ...   \n",
       "2    1954-11-12  female      EE     319.5582     PÄRNU         PÄRNU  ...   \n",
       "3    1990-03-28  female      EE     127.8233     HARJU      PALDISKI  ...   \n",
       "4    1987-09-29  female      EE     319.5582     TARTU         TARTU  ...   \n",
       "\n",
       "  credit_score_1 credit_score_2 credit_score_3  credit_score_4  \\\n",
       "0            NaN            NaN            NaN             NaN   \n",
       "1            NaN            NaN            NaN             NaN   \n",
       "2            NaN            NaN            NaN             NaN   \n",
       "3            NaN            NaN            NaN             NaN   \n",
       "4            NaN            NaN            NaN             NaN   \n",
       "\n",
       "  nr_previous_loans amount_previous_loans previous_repayments  \\\n",
       "0                 1               83.0852              0.0000   \n",
       "1                 2              255.6467            258.6256   \n",
       "2                 0                0.0000              0.0000   \n",
       "3                 1              134.2144              0.0000   \n",
       "4                 1              146.9966              0.0000   \n",
       "\n",
       "  previous_early_repayments previous_early_repayments_count default  \n",
       "0                       0.0                               0       0  \n",
       "1                       0.0                               0       0  \n",
       "2                       0.0                               0       1  \n",
       "3                       0.0                               0       0  \n",
       "4                       0.0                               0       1  \n",
       "\n",
       "[5 rows x 39 columns]"
      ]
     },
     "execution_count": 2,
     "metadata": {},
     "output_type": "execute_result"
    }
   ],
   "source": [
    "df = pd.read_csv(\"loan_data.csv\", low_memory=False)\n",
    "df.head()"
   ]
  },
  {
   "cell_type": "code",
   "execution_count": 3,
   "id": "e580337a",
   "metadata": {},
   "outputs": [],
   "source": [
    "seed = 10\n",
    " \n",
    "X_train, X_test, y_train, y_test = train_test_split(\n",
    "    df.drop(\"default\", axis=1),\n",
    "    df[\"default\"],\n",
    "    test_size=0.20,\n",
    "    random_state=seed,\n",
    ")"
   ]
  },
  {
   "cell_type": "code",
   "execution_count": 4,
   "id": "690f541c",
   "metadata": {},
   "outputs": [
    {
     "data": {
      "text/plain": [
       "((56530, 38), (14133, 38))"
      ]
     },
     "execution_count": 4,
     "metadata": {},
     "output_type": "execute_result"
    }
   ],
   "source": [
    "X_train.shape, X_test.shape"
   ]
  },
  {
   "cell_type": "code",
   "execution_count": 5,
   "id": "4e605c95",
   "metadata": {},
   "outputs": [
    {
     "data": {
      "text/plain": [
       "(0.6570493543251371, 0.6432463029788439)"
      ]
     },
     "execution_count": 5,
     "metadata": {},
     "output_type": "execute_result"
    }
   ],
   "source": [
    "y_train.mean(), y_test.mean()"
   ]
  },
  {
   "cell_type": "markdown",
   "id": "9af8e267",
   "metadata": {},
   "source": [
    "### Evaluate and Impute Numerical Variables\n",
    "\n",
    "Some of the information we have about our customers comes in the form of numerical variables. For example, the requested loan amount and the income are both numerical and continuous variables. But there are also discrete features, like the number of dependents.\n",
    "\n",
    "Please have a look at the numerical variable distributions, identify if there are numerical variables with missing data, and in that case, please impute them."
   ]
  },
  {
   "cell_type": "code",
   "execution_count": 6,
   "id": "4a4494a4",
   "metadata": {},
   "outputs": [],
   "source": [
    "import matplotlib.pyplot as plt"
   ]
  },
  {
   "cell_type": "code",
   "execution_count": 7,
   "id": "b08422a1",
   "metadata": {},
   "outputs": [
    {
     "data": {
      "text/plain": [
       "['new_customer',\n",
       " 'loan_amount',\n",
       " 'nr_dependants',\n",
       " 'income_from_employer',\n",
       " 'income_from_pension',\n",
       " 'income_from_family_allowance',\n",
       " 'income_from_social_welfare',\n",
       " 'income_from_leave_pay',\n",
       " 'income_from_child_support',\n",
       " 'income_other',\n",
       " 'nr_debt_items',\n",
       " 'total_debt',\n",
       " 'credit_score_4',\n",
       " 'nr_previous_loans',\n",
       " 'amount_previous_loans',\n",
       " 'previous_repayments',\n",
       " 'previous_early_repayments',\n",
       " 'previous_early_repayments_count']"
      ]
     },
     "execution_count": 7,
     "metadata": {},
     "output_type": "execute_result"
    }
   ],
   "source": [
    "# Find and display the name of the numerical variables\n",
    "var_num = list(X_train.select_dtypes(include=\"number\").columns)\n",
    "var_num"
   ]
  },
  {
   "cell_type": "code",
   "execution_count": 8,
   "id": "fc7a0d64",
   "metadata": {},
   "outputs": [
    {
     "data": {
      "text/plain": [
       "['new_customer',\n",
       " 'nr_dependants',\n",
       " 'credit_score_4',\n",
       " 'previous_early_repayments_count']"
      ]
     },
     "execution_count": 8,
     "metadata": {},
     "output_type": "execute_result"
    }
   ],
   "source": [
    "# Find and display the name of the discrete variables\n",
    "var_discrete = [var for var in var_num if X_train[var].nunique() < 20]\n",
    "var_discrete"
   ]
  },
  {
   "cell_type": "code",
   "execution_count": 9,
   "id": "19721d1b",
   "metadata": {},
   "outputs": [
    {
     "name": "stdout",
     "output_type": "stream",
     "text": [
      "new_customer\n",
      "1    0.559066\n",
      "0    0.440934\n",
      "Name: new_customer, dtype: float64\n",
      "\n",
      "nr_dependants\n",
      "0.0     0.561921\n",
      "1.0     0.235011\n",
      "2.0     0.140656\n",
      "3.0     0.045282\n",
      "4.0     0.012356\n",
      "5.0     0.003370\n",
      "6.0     0.000702\n",
      "7.0     0.000456\n",
      "8.0     0.000035\n",
      "15.0    0.000035\n",
      "20.0    0.000035\n",
      "18.0    0.000035\n",
      "11.0    0.000035\n",
      "12.0    0.000035\n",
      "13.0    0.000035\n",
      "Name: nr_dependants, dtype: float64\n",
      "\n",
      "credit_score_4\n",
      "1000.0    0.778759\n",
      "800.0     0.077712\n",
      "900.0     0.071201\n",
      "600.0     0.036519\n",
      "700.0     0.035488\n",
      "500.0     0.000322\n",
      "Name: credit_score_4, dtype: float64\n",
      "\n",
      "previous_early_repayments_count\n",
      "0    0.929754\n",
      "1    0.054467\n",
      "2    0.010366\n",
      "3    0.003449\n",
      "4    0.001079\n",
      "5    0.000283\n",
      "7    0.000265\n",
      "6    0.000195\n",
      "8    0.000124\n",
      "9    0.000018\n",
      "Name: previous_early_repayments_count, dtype: float64\n",
      "\n"
     ]
    }
   ],
   "source": [
    "# Examine the values of the discrete variables\n",
    "for var in var_discrete:\n",
    "    print(var)\n",
    "    print(X_train[var].value_counts(normalize=True))\n",
    "    print()"
   ]
  },
  {
   "cell_type": "code",
   "execution_count": 10,
   "id": "d4d5abdd",
   "metadata": {},
   "outputs": [
    {
     "data": {
      "image/png": "[encoded data removed]",
      "text/plain": [
       "<Figure size 1080x1080 with 20 Axes>"
      ]
     },
     "metadata": {
      "needs_background": "light"
     },
     "output_type": "display_data"
    }
   ],
   "source": [
    "# Examine the distribution of all numerical variables\n",
    "X_train[var_num].hist(bins=50, figsize=(15,15))\n",
    "plt.show()"
   ]
  },
  {
   "cell_type": "code",
   "execution_count": 11,
   "id": "c36b8edf",
   "metadata": {},
   "outputs": [
    {
     "data": {
      "text/plain": [
       "['nr_dependants',\n",
       " 'credit_score_4',\n",
       " 'previous_repayments',\n",
       " 'previous_early_repayments']"
      ]
     },
     "execution_count": 11,
     "metadata": {},
     "output_type": "execute_result"
    }
   ],
   "source": [
    "# Identify numerical variables with missing data\n",
    "var_num_na = [var for var in var_num if X_train[var].isnull().sum() > 0]\n",
    "var_num_na"
   ]
  },
  {
   "cell_type": "code",
   "execution_count": 12,
   "id": "c86b02ff",
   "metadata": {},
   "outputs": [
    {
     "data": {
      "text/html": [
       "<div>\n",
       "<style scoped>\n",
       "    .dataframe tbody tr th:only-of-type {\n",
       "        vertical-align: middle;\n",
       "    }\n",
       "\n",
       "    .dataframe tbody tr th {\n",
       "        vertical-align: top;\n",
       "    }\n",
       "\n",
       "    .dataframe thead th {\n",
       "        text-align: right;\n",
       "    }\n",
       "</style>\n",
       "<table border=\"1\" class=\"dataframe\">\n",
       "  <thead>\n",
       "    <tr style=\"text-align: right;\">\n",
       "      <th></th>\n",
       "      <th>nr_dependants</th>\n",
       "      <th>credit_score_4</th>\n",
       "      <th>previous_repayments</th>\n",
       "      <th>previous_early_repayments</th>\n",
       "    </tr>\n",
       "  </thead>\n",
       "  <tbody>\n",
       "    <tr>\n",
       "      <th>count</th>\n",
       "      <td>28488.000000</td>\n",
       "      <td>31025.000000</td>\n",
       "      <td>48257.000000</td>\n",
       "      <td>45528.000000</td>\n",
       "    </tr>\n",
       "    <tr>\n",
       "      <th>mean</th>\n",
       "      <td>0.729254</td>\n",
       "      <td>951.922643</td>\n",
       "      <td>980.815380</td>\n",
       "      <td>260.953051</td>\n",
       "    </tr>\n",
       "    <tr>\n",
       "      <th>std</th>\n",
       "      <td>1.026533</td>\n",
       "      <td>103.086680</td>\n",
       "      <td>2327.506222</td>\n",
       "      <td>1399.392338</td>\n",
       "    </tr>\n",
       "    <tr>\n",
       "      <th>min</th>\n",
       "      <td>0.000000</td>\n",
       "      <td>500.000000</td>\n",
       "      <td>0.000000</td>\n",
       "      <td>0.000000</td>\n",
       "    </tr>\n",
       "    <tr>\n",
       "      <th>25%</th>\n",
       "      <td>0.000000</td>\n",
       "      <td>1000.000000</td>\n",
       "      <td>0.000000</td>\n",
       "      <td>0.000000</td>\n",
       "    </tr>\n",
       "    <tr>\n",
       "      <th>50%</th>\n",
       "      <td>0.000000</td>\n",
       "      <td>1000.000000</td>\n",
       "      <td>0.000000</td>\n",
       "      <td>0.000000</td>\n",
       "    </tr>\n",
       "    <tr>\n",
       "      <th>75%</th>\n",
       "      <td>1.000000</td>\n",
       "      <td>1000.000000</td>\n",
       "      <td>735.380000</td>\n",
       "      <td>0.000000</td>\n",
       "    </tr>\n",
       "    <tr>\n",
       "      <th>max</th>\n",
       "      <td>20.000000</td>\n",
       "      <td>1000.000000</td>\n",
       "      <td>34077.420000</td>\n",
       "      <td>48100.000000</td>\n",
       "    </tr>\n",
       "  </tbody>\n",
       "</table>\n",
       "</div>"
      ],
      "text/plain": [
       "       nr_dependants  credit_score_4  previous_repayments  \\\n",
       "count   28488.000000    31025.000000         48257.000000   \n",
       "mean        0.729254      951.922643           980.815380   \n",
       "std         1.026533      103.086680          2327.506222   \n",
       "min         0.000000      500.000000             0.000000   \n",
       "25%         0.000000     1000.000000             0.000000   \n",
       "50%         0.000000     1000.000000             0.000000   \n",
       "75%         1.000000     1000.000000           735.380000   \n",
       "max        20.000000     1000.000000         34077.420000   \n",
       "\n",
       "       previous_early_repayments  \n",
       "count               45528.000000  \n",
       "mean                  260.953051  \n",
       "std                  1399.392338  \n",
       "min                     0.000000  \n",
       "25%                     0.000000  \n",
       "50%                     0.000000  \n",
       "75%                     0.000000  \n",
       "max                 48100.000000  "
      ]
     },
     "execution_count": 12,
     "metadata": {},
     "output_type": "execute_result"
    }
   ],
   "source": [
    "# Find maximum and minimum values of the variables with missing data\n",
    "X_train[var_num_na].describe()"
   ]
  },
  {
   "cell_type": "code",
   "execution_count": 13,
   "id": "6930d580",
   "metadata": {},
   "outputs": [
    {
     "data": {
      "text/plain": [
       "{'nr_dependants': -1,\n",
       " 'credit_score_4': -1,\n",
       " 'previous_repayments': -1,\n",
       " 'previous_early_repayments': -1}"
      ]
     },
     "execution_count": 13,
     "metadata": {},
     "output_type": "execute_result"
    }
   ],
   "source": [
    "# Create an imputation dictionary with the variables to impute as keys and -1 as value\n",
    "imputation_num_dict = {var: -1 for var in var_num_na}\n",
    "imputation_num_dict"
   ]
  },
  {
   "cell_type": "code",
   "execution_count": 14,
   "id": "a013db0a",
   "metadata": {},
   "outputs": [],
   "source": [
    "# Impute numerical variables from step 6 with the dictionary from previous step\n",
    "X_train.fillna(value = imputation_num_dict, inplace=True)\n",
    "X_test.fillna(value = imputation_num_dict, inplace=True)"
   ]
  },
  {
   "cell_type": "code",
   "execution_count": 15,
   "id": "778bd53b",
   "metadata": {},
   "outputs": [
    {
     "data": {
      "text/plain": [
       "nr_dependants                0\n",
       "credit_score_4               0\n",
       "previous_repayments          0\n",
       "previous_early_repayments    0\n",
       "dtype: int64"
      ]
     },
     "execution_count": 15,
     "metadata": {},
     "output_type": "execute_result"
    }
   ],
   "source": [
    "# Corroborate that there is no missing data left in these variables\n",
    "X_test[var_num_na].isnull().sum()"
   ]
  },
  {
   "cell_type": "markdown",
   "id": "1fc075d9",
   "metadata": {},
   "source": [
    "### Create new income and debt based variables\n",
    "\n",
    "Historically, variables that capture the relationship between the customer's income and existing debt have been very useful to assess the customer's probability of defaulting. These variables are:\n",
    "\n",
    "The customer's total income, which is the sum of all income sources\n",
    "\n",
    "The debt-to-income ratio, which measures the proportion of income used to pay off existing debt\n",
    "\n",
    "The discretionary income, which is the money remaining after paying off the monthly debt.\n",
    "\n",
    "The CEO and our investors will probably want to see that the model uses these variables as input.\n",
    "\n",
    "Please go ahead and create those variables from the existing data. The variable total_debt which you will find in the data set, represents the customer's monthly debt. In the data set, you will also find many income-related variables representing the different sources of monthly income for each customer. Keep in mind that our platform does not require customers to enter their income. As a result, you may come across customers whose income is zero because they did not disclose it."
   ]
  },
  {
   "cell_type": "code",
   "execution_count": 16,
   "id": "af633213",
   "metadata": {},
   "outputs": [],
   "source": [
    "# Find the variables representing the different sources of monthly income\n",
    "var_income = [\n",
    "    'income_from_employer',\n",
    "    'income_from_pension',\n",
    "    'income_from_family_allowance',\n",
    "    'income_from_social_welfare',\n",
    "    'income_from_leave_pay',\n",
    "    'income_from_child_support',\n",
    "    'income_other',\n",
    "]"
   ]
  },
  {
   "cell_type": "code",
   "execution_count": 17,
   "id": "a3f26486",
   "metadata": {},
   "outputs": [],
   "source": [
    "# Create the total income variable by adding up the variables from previous step\n",
    "X_train['total_income'] = X_train[var_income].sum(axis=1)\n",
    "X_test['total_income'] = X_test[var_income].sum(axis=1)"
   ]
  },
  {
   "cell_type": "code",
   "execution_count": 18,
   "id": "fda8aa38",
   "metadata": {},
   "outputs": [
    {
     "data": {
      "image/png": "[encoded data removed]",
      "text/plain": [
       "<Figure size 576x360 with 1 Axes>"
      ]
     },
     "metadata": {
      "needs_background": "light"
     },
     "output_type": "display_data"
    }
   ],
   "source": [
    "# Display the histogram distribution of the new variable total income\n",
    "X_train['total_income'].hist(bins=50, figsize=(8,5))\n",
    "plt.ylabel(\"number of people\")\n",
    "plt.xlabel(\"total income\")\n",
    "plt.show()"
   ]
  },
  {
   "cell_type": "code",
   "execution_count": 19,
   "id": "803b8801",
   "metadata": {},
   "outputs": [
    {
     "data": {
      "text/html": [
       "<div>\n",
       "<style scoped>\n",
       "    .dataframe tbody tr th:only-of-type {\n",
       "        vertical-align: middle;\n",
       "    }\n",
       "\n",
       "    .dataframe tbody tr th {\n",
       "        vertical-align: top;\n",
       "    }\n",
       "\n",
       "    .dataframe thead th {\n",
       "        text-align: right;\n",
       "    }\n",
       "</style>\n",
       "<table border=\"1\" class=\"dataframe\">\n",
       "  <thead>\n",
       "    <tr style=\"text-align: right;\">\n",
       "      <th></th>\n",
       "      <th>dti</th>\n",
       "      <th>total_debt</th>\n",
       "      <th>total_income</th>\n",
       "    </tr>\n",
       "  </thead>\n",
       "  <tbody>\n",
       "    <tr>\n",
       "      <th>11155</th>\n",
       "      <td>0.822736</td>\n",
       "      <td>854.0</td>\n",
       "      <td>1038.0</td>\n",
       "    </tr>\n",
       "    <tr>\n",
       "      <th>50730</th>\n",
       "      <td>0.428182</td>\n",
       "      <td>471.0</td>\n",
       "      <td>1100.0</td>\n",
       "    </tr>\n",
       "    <tr>\n",
       "      <th>35924</th>\n",
       "      <td>NaN</td>\n",
       "      <td>0.0</td>\n",
       "      <td>0.0</td>\n",
       "    </tr>\n",
       "    <tr>\n",
       "      <th>69230</th>\n",
       "      <td>0.299476</td>\n",
       "      <td>286.0</td>\n",
       "      <td>955.0</td>\n",
       "    </tr>\n",
       "    <tr>\n",
       "      <th>35679</th>\n",
       "      <td>inf</td>\n",
       "      <td>245.4</td>\n",
       "      <td>0.0</td>\n",
       "    </tr>\n",
       "  </tbody>\n",
       "</table>\n",
       "</div>"
      ],
      "text/plain": [
       "            dti  total_debt  total_income\n",
       "11155  0.822736       854.0        1038.0\n",
       "50730  0.428182       471.0        1100.0\n",
       "35924       NaN         0.0           0.0\n",
       "69230  0.299476       286.0         955.0\n",
       "35679       inf       245.4           0.0"
      ]
     },
     "execution_count": 19,
     "metadata": {},
     "output_type": "execute_result"
    }
   ],
   "source": [
    "# Create the variable debt to income ratio and then display the first 5 rows of the input and resulting variables\n",
    "\n",
    "X_train[\"dti\"] = X_train[\"total_debt\"].div(X_train[\"total_income\"])\n",
    "X_test[\"dti\"] = X_test[\"total_debt\"].div(X_test[\"total_income\"])\n",
    " \n",
    "X_train[[\"dti\", \"total_debt\", \"total_income\"]].head()"
   ]
  },
  {
   "cell_type": "code",
   "execution_count": 20,
   "id": "628cee2e",
   "metadata": {},
   "outputs": [],
   "source": [
    "# Replace the NAN and infinite values introduced by the division in step 4 by the number 0\n",
    "\n",
    "from numpy import nan, inf\n",
    " \n",
    "X_train[\"dti\"].replace([inf, nan], 0, inplace=True)\n",
    "X_test[\"dti\"].replace([inf, nan], 0, inplace=True)"
   ]
  },
  {
   "cell_type": "code",
   "execution_count": 21,
   "id": "113b68ef",
   "metadata": {},
   "outputs": [
    {
     "data": {
      "text/html": [
       "<div>\n",
       "<style scoped>\n",
       "    .dataframe tbody tr th:only-of-type {\n",
       "        vertical-align: middle;\n",
       "    }\n",
       "\n",
       "    .dataframe tbody tr th {\n",
       "        vertical-align: top;\n",
       "    }\n",
       "\n",
       "    .dataframe thead th {\n",
       "        text-align: right;\n",
       "    }\n",
       "</style>\n",
       "<table border=\"1\" class=\"dataframe\">\n",
       "  <thead>\n",
       "    <tr style=\"text-align: right;\">\n",
       "      <th></th>\n",
       "      <th>cash</th>\n",
       "      <th>total_debt</th>\n",
       "      <th>total_income</th>\n",
       "    </tr>\n",
       "  </thead>\n",
       "  <tbody>\n",
       "    <tr>\n",
       "      <th>11155</th>\n",
       "      <td>184.0</td>\n",
       "      <td>854.0</td>\n",
       "      <td>1038.0</td>\n",
       "    </tr>\n",
       "    <tr>\n",
       "      <th>50730</th>\n",
       "      <td>629.0</td>\n",
       "      <td>471.0</td>\n",
       "      <td>1100.0</td>\n",
       "    </tr>\n",
       "    <tr>\n",
       "      <th>35924</th>\n",
       "      <td>0.0</td>\n",
       "      <td>0.0</td>\n",
       "      <td>0.0</td>\n",
       "    </tr>\n",
       "    <tr>\n",
       "      <th>69230</th>\n",
       "      <td>669.0</td>\n",
       "      <td>286.0</td>\n",
       "      <td>955.0</td>\n",
       "    </tr>\n",
       "    <tr>\n",
       "      <th>35679</th>\n",
       "      <td>-245.4</td>\n",
       "      <td>245.4</td>\n",
       "      <td>0.0</td>\n",
       "    </tr>\n",
       "  </tbody>\n",
       "</table>\n",
       "</div>"
      ],
      "text/plain": [
       "        cash  total_debt  total_income\n",
       "11155  184.0       854.0        1038.0\n",
       "50730  629.0       471.0        1100.0\n",
       "35924    0.0         0.0           0.0\n",
       "69230  669.0       286.0         955.0\n",
       "35679 -245.4       245.4           0.0"
      ]
     },
     "execution_count": 21,
     "metadata": {},
     "output_type": "execute_result"
    }
   ],
   "source": [
    "# Create the variable cash representing the remaining monthly income after paying the monthly debt\n",
    "\n",
    "X_train[\"cash\"] = X_train[\"total_income\"].sub(X_train[\"total_debt\"])\n",
    "X_test[\"cash\"] = X_test[\"total_income\"].sub(X_test[\"total_debt\"])\n",
    " \n",
    "X_train[[\"cash\", \"total_debt\", \"total_income\"]].head()"
   ]
  },
  {
   "cell_type": "markdown",
   "id": "88e663bb",
   "metadata": {},
   "source": [
    "### Create features from datetime variables\n",
    "\n",
    "When the customer makes a loan application, the date and time of the application are automatically recorded. We also require customers to enter their date of birth so we can use that to retrieve their financial information from the credit agencies.\n",
    "\n",
    "Our company only provides loans to customers who are at least 18 years old. Younger customers or customers who wrongly enter their date of birth are automatically declined, and their data is not passed to our credit risk model. If you find such customers in the data set, please remove them.\n",
    "\n",
    "Using the date of application and the date of birth, please return the age of the customer at the time of application. Age could be a good indicator of credit worthiness. Next, please go ahead and create multiple features to represent the date and time of the application, like month, day of the week, etc."
   ]
  },
  {
   "cell_type": "code",
   "execution_count": 22,
   "id": "2741b5ba",
   "metadata": {},
   "outputs": [
    {
     "data": {
      "text/html": [
       "<div>\n",
       "<style scoped>\n",
       "    .dataframe tbody tr th:only-of-type {\n",
       "        vertical-align: middle;\n",
       "    }\n",
       "\n",
       "    .dataframe tbody tr th {\n",
       "        vertical-align: top;\n",
       "    }\n",
       "\n",
       "    .dataframe thead th {\n",
       "        text-align: right;\n",
       "    }\n",
       "</style>\n",
       "<table border=\"1\" class=\"dataframe\">\n",
       "  <thead>\n",
       "    <tr style=\"text-align: right;\">\n",
       "      <th></th>\n",
       "      <th>application_date</th>\n",
       "      <th>date_of_birth</th>\n",
       "    </tr>\n",
       "  </thead>\n",
       "  <tbody>\n",
       "    <tr>\n",
       "      <th>11155</th>\n",
       "      <td>2020-03-25 02:42:53</td>\n",
       "      <td>1973-03-28</td>\n",
       "    </tr>\n",
       "    <tr>\n",
       "      <th>50730</th>\n",
       "      <td>2017-12-23 12:49:32</td>\n",
       "      <td>1974-02-19</td>\n",
       "    </tr>\n",
       "    <tr>\n",
       "      <th>35924</th>\n",
       "      <td>2021-10-14 13:26:08</td>\n",
       "      <td>1975-01-17</td>\n",
       "    </tr>\n",
       "    <tr>\n",
       "      <th>69230</th>\n",
       "      <td>2018-11-09 09:37:29</td>\n",
       "      <td>1980-05-28</td>\n",
       "    </tr>\n",
       "    <tr>\n",
       "      <th>35679</th>\n",
       "      <td>2021-10-07 10:48:05</td>\n",
       "      <td>1980-04-20</td>\n",
       "    </tr>\n",
       "  </tbody>\n",
       "</table>\n",
       "</div>"
      ],
      "text/plain": [
       "          application_date date_of_birth\n",
       "11155  2020-03-25 02:42:53    1973-03-28\n",
       "50730  2017-12-23 12:49:32    1974-02-19\n",
       "35924  2021-10-14 13:26:08    1975-01-17\n",
       "69230  2018-11-09 09:37:29    1980-05-28\n",
       "35679  2021-10-07 10:48:05    1980-04-20"
      ]
     },
     "execution_count": 22,
     "metadata": {},
     "output_type": "execute_result"
    }
   ],
   "source": [
    "# Find the variables representing the date of birth an date and time of application and display their first 5 values\n",
    "\n",
    "vars_temp = [\"application_date\", \"date_of_birth\"]\n",
    " \n",
    "X_train[vars_temp].head()"
   ]
  },
  {
   "cell_type": "code",
   "execution_count": 23,
   "id": "a54f37d8",
   "metadata": {},
   "outputs": [
    {
     "data": {
      "text/plain": [
       "application_date    0\n",
       "date_of_birth       0\n",
       "dtype: int64"
      ]
     },
     "execution_count": 23,
     "metadata": {},
     "output_type": "execute_result"
    }
   ],
   "source": [
    "X_train[vars_temp].isnull().sum()"
   ]
  },
  {
   "cell_type": "code",
   "execution_count": 24,
   "id": "7b3e978d",
   "metadata": {},
   "outputs": [],
   "source": [
    "# Create a variable to capture the age of the customer at the time of loan application\n",
    "\n",
    "X_train[\"age\"] = ((pd.to_datetime(X_train[\"application_date\"]) -\n",
    "                  pd.to_datetime(X_train[\"date_of_birth\"])).dt.days/365).astype(int)\n",
    " \n",
    "X_test[\"age\"] = ((pd.to_datetime(X_test[\"application_date\"]) -\n",
    "                  pd.to_datetime(X_test[\"date_of_birth\"])).dt.days/365).astype(int)"
   ]
  },
  {
   "cell_type": "code",
   "execution_count": 25,
   "id": "0c626a4a",
   "metadata": {},
   "outputs": [
    {
     "data": {
      "image/png": "[encoded data removed]",
      "text/plain": [
       "<Figure size 432x288 with 1 Axes>"
      ]
     },
     "metadata": {
      "needs_background": "light"
     },
     "output_type": "display_data"
    }
   ],
   "source": [
    "# Create a histogram of the variable age, and see if there are customers younger than 18:\n",
    "\n",
    "X_train[\"age\"].hist()\n",
    "plt.xlabel(\"age\")\n",
    "plt.ylabel(\"number of people\")\n",
    "plt.show()"
   ]
  },
  {
   "cell_type": "code",
   "execution_count": 26,
   "id": "a1131a01",
   "metadata": {},
   "outputs": [],
   "source": [
    "# Remove people younger than 18 from the data sets and target variables\n",
    "\n",
    "X_train = X_train[X_train[\"age\"] >= 18]\n",
    "X_test = X_test[X_test[\"age\"] >= 18]\n",
    "y_train = y_train.loc[X_train.index]\n",
    "y_test = y_test.loc[X_test.index]"
   ]
  },
  {
   "cell_type": "code",
   "execution_count": 27,
   "id": "42eef15e",
   "metadata": {},
   "outputs": [
    {
     "data": {
      "text/html": [
       "<div>\n",
       "<style scoped>\n",
       "    .dataframe tbody tr th:only-of-type {\n",
       "        vertical-align: middle;\n",
       "    }\n",
       "\n",
       "    .dataframe tbody tr th {\n",
       "        vertical-align: top;\n",
       "    }\n",
       "\n",
       "    .dataframe thead th {\n",
       "        text-align: right;\n",
       "    }\n",
       "</style>\n",
       "<table border=\"1\" class=\"dataframe\">\n",
       "  <thead>\n",
       "    <tr style=\"text-align: right;\">\n",
       "      <th></th>\n",
       "      <th>application_date</th>\n",
       "      <th>dow</th>\n",
       "      <th>dom</th>\n",
       "      <th>month</th>\n",
       "      <th>hour</th>\n",
       "    </tr>\n",
       "  </thead>\n",
       "  <tbody>\n",
       "    <tr>\n",
       "      <th>11155</th>\n",
       "      <td>2020-03-25 02:42:53</td>\n",
       "      <td>2</td>\n",
       "      <td>25</td>\n",
       "      <td>3</td>\n",
       "      <td>2</td>\n",
       "    </tr>\n",
       "    <tr>\n",
       "      <th>50730</th>\n",
       "      <td>2017-12-23 12:49:32</td>\n",
       "      <td>5</td>\n",
       "      <td>23</td>\n",
       "      <td>12</td>\n",
       "      <td>12</td>\n",
       "    </tr>\n",
       "    <tr>\n",
       "      <th>35924</th>\n",
       "      <td>2021-10-14 13:26:08</td>\n",
       "      <td>3</td>\n",
       "      <td>14</td>\n",
       "      <td>10</td>\n",
       "      <td>13</td>\n",
       "    </tr>\n",
       "    <tr>\n",
       "      <th>69230</th>\n",
       "      <td>2018-11-09 09:37:29</td>\n",
       "      <td>4</td>\n",
       "      <td>9</td>\n",
       "      <td>11</td>\n",
       "      <td>9</td>\n",
       "    </tr>\n",
       "    <tr>\n",
       "      <th>35679</th>\n",
       "      <td>2021-10-07 10:48:05</td>\n",
       "      <td>3</td>\n",
       "      <td>7</td>\n",
       "      <td>10</td>\n",
       "      <td>10</td>\n",
       "    </tr>\n",
       "  </tbody>\n",
       "</table>\n",
       "</div>"
      ],
      "text/plain": [
       "         application_date  dow  dom  month  hour\n",
       "11155 2020-03-25 02:42:53    2   25      3     2\n",
       "50730 2017-12-23 12:49:32    5   23     12    12\n",
       "35924 2021-10-14 13:26:08    3   14     10    13\n",
       "69230 2018-11-09 09:37:29    4    9     11     9\n",
       "35679 2021-10-07 10:48:05    3    7     10    10"
      ]
     },
     "execution_count": 27,
     "metadata": {},
     "output_type": "execute_result"
    }
   ],
   "source": [
    "# Next, from the variable indicating date and time of application, create the features hour, \n",
    "# day of the week, day of the month and month\n",
    "\n",
    "# Create features in train set\n",
    "X_train[\"application_date\"] = pd.to_datetime(X_train[\"application_date\"])\n",
    "X_train[\"dow\"] = X_train[\"application_date\"].dt.day_of_week\n",
    "X_train[\"dom\"] = X_train[\"application_date\"].dt.day\n",
    "X_train[\"month\"] = X_train[\"application_date\"].dt.month\n",
    "X_train[\"hour\"] = X_train[\"application_date\"].dt.hour\n",
    "# Create features in test set\n",
    "X_test[\"application_date\"] = pd.to_datetime(X_test[\"application_date\"])\n",
    "X_test[\"dow\"] = X_test[\"application_date\"].dt.day_of_week\n",
    "X_test[\"dom\"] = X_test[\"application_date\"].dt.day\n",
    "X_test[\"month\"] = X_test[\"application_date\"].dt.month\n",
    "X_test[\"hour\"] = X_test[\"application_date\"].dt.hour\n",
    "# Display new features\n",
    "X_train[[\"application_date\", \"dow\", \"dom\", \"month\", \"hour\"]].head()"
   ]
  },
  {
   "cell_type": "code",
   "execution_count": 28,
   "id": "dddb6e42",
   "metadata": {},
   "outputs": [],
   "source": [
    "# Drop the original datetime variables from the data sets\n",
    "\n",
    "X_train.drop([\"application_date\", \"date_of_birth\"], axis=1, inplace=True)\n",
    "X_test.drop([\"application_date\", \"date_of_birth\"], axis=1, inplace=True)"
   ]
  },
  {
   "cell_type": "code",
   "execution_count": 29,
   "id": "d08c2249",
   "metadata": {},
   "outputs": [
    {
     "data": {
      "image/png": "[encoded data removed]",
      "text/plain": [
       "<Figure size 864x576 with 4 Axes>"
      ]
     },
     "metadata": {
      "needs_background": "light"
     },
     "output_type": "display_data"
    }
   ],
   "source": [
    "# Plot the number of applications per value of the features from previous step\n",
    "\n",
    "# Define subplot grid\n",
    "fig, axs = plt.subplots(nrows=2, ncols=2, figsize=(12, 8))\n",
    "plt.subplots_adjust(hspace=0.5)\n",
    "fig.suptitle(\"Number of applications\", fontsize=16, y=0.95)\n",
    " \n",
    "new_features = [\"hour\", \"dow\", \"dom\", \"month\"]\n",
    " \n",
    "# loop through variables and axes\n",
    "for var, ax in zip(new_features, axs.ravel()):\n",
    "    \n",
    "    # Plot the variable\n",
    "    X_train.groupby(var)[var].count().plot(ax=ax)\n",
    " \n",
    "    # Plot formatting\n",
    "    ax.set_title(var)\n",
    "    ax.set_ylabel(\"number of applications\")"
   ]
  },
  {
   "cell_type": "markdown",
   "id": "6aa90650",
   "metadata": {},
   "source": [
    "### Evaluate categorical variables cardinality\n",
    "\n",
    "Much of the information we have about our customers comes in the form of strings. For example, gender, marital status, employment and others.\n",
    "\n",
    "We accept applications from all over Europe. Therefore, some values, like job position, are entered in different languages, and you will see that they have a multitude of unique values. We'd rather not use such variables in our credit risk model because we anticipate future values that are not present in our current data sets, and therefore, the model will not be able to process them.\n",
    "\n",
    "Please go ahead and find highly cardinal categorical variables and remove them from the data sets."
   ]
  },
  {
   "cell_type": "code",
   "execution_count": 30,
   "id": "b1521200",
   "metadata": {},
   "outputs": [
    {
     "data": {
      "text/plain": [
       "['income_verification',\n",
       " 'language',\n",
       " 'gender',\n",
       " 'country',\n",
       " 'county',\n",
       " 'city',\n",
       " 'use_of_loan',\n",
       " 'education',\n",
       " 'marital_status',\n",
       " 'employment_status',\n",
       " 'employment_duration',\n",
       " 'employment_position',\n",
       " 'work_experience',\n",
       " 'occupation',\n",
       " 'home_ownership',\n",
       " 'credit_score_1',\n",
       " 'credit_score_2',\n",
       " 'credit_score_3']"
      ]
     },
     "execution_count": 30,
     "metadata": {},
     "output_type": "execute_result"
    }
   ],
   "source": [
    "# Find the name of the categorical variables, that is, those cast as object:\n",
    "\n",
    "vars_cat = [x for x in X_train.select_dtypes(include=\"O\").columns if x not in vars_temp]\n",
    " \n",
    "vars_cat"
   ]
  },
  {
   "cell_type": "code",
   "execution_count": 31,
   "id": "abc72475",
   "metadata": {},
   "outputs": [
    {
     "data": {
      "text/html": [
       "<div>\n",
       "<style scoped>\n",
       "    .dataframe tbody tr th:only-of-type {\n",
       "        vertical-align: middle;\n",
       "    }\n",
       "\n",
       "    .dataframe tbody tr th {\n",
       "        vertical-align: top;\n",
       "    }\n",
       "\n",
       "    .dataframe thead th {\n",
       "        text-align: right;\n",
       "    }\n",
       "</style>\n",
       "<table border=\"1\" class=\"dataframe\">\n",
       "  <thead>\n",
       "    <tr style=\"text-align: right;\">\n",
       "      <th></th>\n",
       "      <th>income_verification</th>\n",
       "      <th>language</th>\n",
       "      <th>gender</th>\n",
       "      <th>country</th>\n",
       "      <th>county</th>\n",
       "      <th>city</th>\n",
       "      <th>use_of_loan</th>\n",
       "      <th>education</th>\n",
       "      <th>marital_status</th>\n",
       "      <th>employment_status</th>\n",
       "      <th>employment_duration</th>\n",
       "      <th>employment_position</th>\n",
       "      <th>work_experience</th>\n",
       "      <th>occupation</th>\n",
       "      <th>home_ownership</th>\n",
       "      <th>credit_score_1</th>\n",
       "      <th>credit_score_2</th>\n",
       "      <th>credit_score_3</th>\n",
       "    </tr>\n",
       "  </thead>\n",
       "  <tbody>\n",
       "    <tr>\n",
       "      <th>11155</th>\n",
       "      <td>unverified</td>\n",
       "      <td>spanish</td>\n",
       "      <td>female</td>\n",
       "      <td>ES</td>\n",
       "      <td>CATALUNYA</td>\n",
       "      <td>LLEIDA</td>\n",
       "      <td>loan_consolidation</td>\n",
       "      <td>secondary</td>\n",
       "      <td>divorced</td>\n",
       "      <td>retiree</td>\n",
       "      <td>UpTo5Years</td>\n",
       "      <td>Worker</td>\n",
       "      <td>15To25Years</td>\n",
       "      <td>other</td>\n",
       "      <td>tenant_furnished</td>\n",
       "      <td>M1</td>\n",
       "      <td>B</td>\n",
       "      <td>NaN</td>\n",
       "    </tr>\n",
       "    <tr>\n",
       "      <th>50730</th>\n",
       "      <td>income_and_expenses_verified</td>\n",
       "      <td>spanish</td>\n",
       "      <td>female</td>\n",
       "      <td>ES</td>\n",
       "      <td>MADRID</td>\n",
       "      <td>MADRID</td>\n",
       "      <td>other</td>\n",
       "      <td>higher</td>\n",
       "      <td>single</td>\n",
       "      <td>fully</td>\n",
       "      <td>UpTo5Years</td>\n",
       "      <td>telefonioperaator</td>\n",
       "      <td>15To25Years</td>\n",
       "      <td>telecom</td>\n",
       "      <td>tenant_furnished</td>\n",
       "      <td>M1</td>\n",
       "      <td>B</td>\n",
       "      <td>NaN</td>\n",
       "    </tr>\n",
       "    <tr>\n",
       "      <th>35924</th>\n",
       "      <td>income_and_expenses_verified</td>\n",
       "      <td>russian</td>\n",
       "      <td>male</td>\n",
       "      <td>EE</td>\n",
       "      <td>Harju maakond</td>\n",
       "      <td>Tallinn</td>\n",
       "      <td>unknown</td>\n",
       "      <td>higher</td>\n",
       "      <td>NaN</td>\n",
       "      <td>NaN</td>\n",
       "      <td>UpTo5Years</td>\n",
       "      <td>NaN</td>\n",
       "      <td>NaN</td>\n",
       "      <td>NaN</td>\n",
       "      <td>owner</td>\n",
       "      <td>M</td>\n",
       "      <td>NaN</td>\n",
       "      <td>NaN</td>\n",
       "    </tr>\n",
       "    <tr>\n",
       "      <th>69230</th>\n",
       "      <td>income_and_expenses_verified</td>\n",
       "      <td>estonian</td>\n",
       "      <td>male</td>\n",
       "      <td>EE</td>\n",
       "      <td>HARJU</td>\n",
       "      <td>TALLINN</td>\n",
       "      <td>vehicle</td>\n",
       "      <td>secondary</td>\n",
       "      <td>single</td>\n",
       "      <td>fully</td>\n",
       "      <td>UpTo2Years</td>\n",
       "      <td>Executive</td>\n",
       "      <td>10To15Years</td>\n",
       "      <td>construction</td>\n",
       "      <td>tenant_furnished</td>\n",
       "      <td>NaN</td>\n",
       "      <td>NaN</td>\n",
       "      <td>NaN</td>\n",
       "    </tr>\n",
       "    <tr>\n",
       "      <th>35679</th>\n",
       "      <td>unverified</td>\n",
       "      <td>russian</td>\n",
       "      <td>male</td>\n",
       "      <td>EE</td>\n",
       "      <td>Harju maakond</td>\n",
       "      <td>Tallinn</td>\n",
       "      <td>unknown</td>\n",
       "      <td>secondary</td>\n",
       "      <td>NaN</td>\n",
       "      <td>NaN</td>\n",
       "      <td>MoreThan5Years</td>\n",
       "      <td>NaN</td>\n",
       "      <td>NaN</td>\n",
       "      <td>NaN</td>\n",
       "      <td>owner</td>\n",
       "      <td>M</td>\n",
       "      <td>NaN</td>\n",
       "      <td>NaN</td>\n",
       "    </tr>\n",
       "  </tbody>\n",
       "</table>\n",
       "</div>"
      ],
      "text/plain": [
       "                income_verification  language  gender country         county  \\\n",
       "11155                    unverified   spanish  female      ES      CATALUNYA   \n",
       "50730  income_and_expenses_verified   spanish  female      ES         MADRID   \n",
       "35924  income_and_expenses_verified   russian    male      EE  Harju maakond   \n",
       "69230  income_and_expenses_verified  estonian    male      EE          HARJU   \n",
       "35679                    unverified   russian    male      EE  Harju maakond   \n",
       "\n",
       "          city         use_of_loan  education marital_status  \\\n",
       "11155   LLEIDA  loan_consolidation  secondary       divorced   \n",
       "50730   MADRID               other     higher         single   \n",
       "35924  Tallinn             unknown     higher            NaN   \n",
       "69230  TALLINN             vehicle  secondary         single   \n",
       "35679  Tallinn             unknown  secondary            NaN   \n",
       "\n",
       "      employment_status employment_duration employment_position  \\\n",
       "11155           retiree          UpTo5Years              Worker   \n",
       "50730             fully          UpTo5Years   telefonioperaator   \n",
       "35924               NaN          UpTo5Years                 NaN   \n",
       "69230             fully          UpTo2Years           Executive   \n",
       "35679               NaN      MoreThan5Years                 NaN   \n",
       "\n",
       "      work_experience    occupation    home_ownership credit_score_1  \\\n",
       "11155     15To25Years         other  tenant_furnished             M1   \n",
       "50730     15To25Years       telecom  tenant_furnished             M1   \n",
       "35924             NaN           NaN             owner              M   \n",
       "69230     10To15Years  construction  tenant_furnished            NaN   \n",
       "35679             NaN           NaN             owner              M   \n",
       "\n",
       "      credit_score_2 credit_score_3  \n",
       "11155              B            NaN  \n",
       "50730              B            NaN  \n",
       "35924            NaN            NaN  \n",
       "69230            NaN            NaN  \n",
       "35679            NaN            NaN  "
      ]
     },
     "execution_count": 31,
     "metadata": {},
     "output_type": "execute_result"
    }
   ],
   "source": [
    "X_train[vars_cat].head(5)"
   ]
  },
  {
   "cell_type": "code",
   "execution_count": 32,
   "id": "d08b146d",
   "metadata": {},
   "outputs": [
    {
     "data": {
      "text/plain": [
       "<AxesSubplot:>"
      ]
     },
     "execution_count": 32,
     "metadata": {},
     "output_type": "execute_result"
    },
    {
     "data": {
      "image/png": "[encoded data removed]",
      "text/plain": [
       "<Figure size 720x360 with 1 Axes>"
      ]
     },
     "metadata": {
      "needs_background": "light"
     },
     "output_type": "display_data"
    }
   ],
   "source": [
    "# Determine the number of unique categories per variable and plot them in a bar plot:\n",
    "\n",
    "X_train[vars_cat].nunique().sort_values(ascending=True).plot.bar(figsize=(10, 5))"
   ]
  },
  {
   "cell_type": "code",
   "execution_count": 33,
   "id": "cbf6999c",
   "metadata": {},
   "outputs": [
    {
     "name": "stdout",
     "output_type": "stream",
     "text": [
      "employment_position\n",
      "['Worker' 'telefonioperaator' nan 'Executive' 'MiddleManager'\n",
      " 'SpecialistOfficeWorker' 'Camarero'\n",
      " 'müügisekretär  ( hetkel kodune lapsega) ' 'Jurist' 'Autopesija' 'Owner'\n",
      " 'Insener' 'Cámara y Periodista ' 'operaator-klienditeenindaja' 'liimia'\n",
      " 'Comercial' 'operaator' 'Haljastustööline ' 'Tegevjuht' 'Linnu talitaja']\n",
      "\n",
      "city\n",
      "['LLEIDA' 'MADRID' 'Tallinn' 'TALLINN' nan 'Tahkuranna vald' 'Põlva vald'\n",
      " 'MÁLAGA' 'PALDISKI' 'PORI' 'KOUVOLA' 'VALENCIA' 'VÕRU' 'Tartu linn'\n",
      " 'LUIGE' 'Viljandi linn' 'Kanepi vald' 'KIURUVESI' 'ECIJA' 'MURASTE KÜLA']\n",
      "\n",
      "county\n",
      "['CATALUNYA' 'MADRID' 'Harju maakond' 'HARJU' nan 'Pärnu maakond'\n",
      " 'Põlva maakond' 'ANDALUCÍA' 'VALENCIA' 'VÕRUMAA' 'Tartu maakond'\n",
      " 'Viljandi maakond' 'SEVILLA' 'JÄRVAMAA' 'PIRKANMAA' 'COMUNIDAD DE MADRID'\n",
      " 'PÄRNU' 'PÄRNU MAAKOND' 'ŽILINSKÝ KRAJ' 'Ida-Viru maakond']\n",
      "\n"
     ]
    }
   ],
   "source": [
    "# Find the 3 variables with highest cardinality, and plot their first 20 unique values:\n",
    "\n",
    "highly_cardinal_vars = [\"employment_position\", \"city\", \"county\"]\n",
    " \n",
    "for var in highly_cardinal_vars:\n",
    "    print(var)\n",
    "    print(X_train[var].unique()[0:20])\n",
    "    print()"
   ]
  },
  {
   "cell_type": "code",
   "execution_count": 34,
   "id": "175d78d5",
   "metadata": {},
   "outputs": [],
   "source": [
    "# Remove the variables from previous step from the data sets:\n",
    "\n",
    "X_train.drop(highly_cardinal_vars, axis=1, inplace=True)\n",
    "X_test.drop(highly_cardinal_vars, axis=1, inplace=True)"
   ]
  },
  {
   "cell_type": "markdown",
   "id": "781a194a",
   "metadata": {},
   "source": [
    "### Impute Categorical variables"
   ]
  },
  {
   "cell_type": "code",
   "execution_count": 35,
   "id": "93a8acda",
   "metadata": {},
   "outputs": [],
   "source": [
    "# Remove the highly cardinal variables from the list of categorical variables\n",
    "\n",
    "vars_cat = [var for var in vars_cat if var not in highly_cardinal_vars]"
   ]
  },
  {
   "cell_type": "code",
   "execution_count": 36,
   "id": "f633e048",
   "metadata": {},
   "outputs": [
    {
     "data": {
      "text/plain": [
       "['gender',\n",
       " 'education',\n",
       " 'marital_status',\n",
       " 'employment_status',\n",
       " 'employment_duration',\n",
       " 'work_experience',\n",
       " 'occupation',\n",
       " 'home_ownership',\n",
       " 'credit_score_1',\n",
       " 'credit_score_2',\n",
       " 'credit_score_3']"
      ]
     },
     "execution_count": 36,
     "metadata": {},
     "output_type": "execute_result"
    }
   ],
   "source": [
    "# Find the name of categorical variables with missing data\n",
    "\n",
    "var_cat_na = [var for var in vars_cat if X_train[var].isnull().sum() > 0]\n",
    " \n",
    "var_cat_na"
   ]
  },
  {
   "cell_type": "code",
   "execution_count": 37,
   "id": "dea244cb",
   "metadata": {},
   "outputs": [
    {
     "data": {
      "text/plain": [
       "{'gender': 'missing',\n",
       " 'education': 'missing',\n",
       " 'marital_status': 'missing',\n",
       " 'employment_status': 'missing',\n",
       " 'employment_duration': 'missing',\n",
       " 'work_experience': 'missing',\n",
       " 'occupation': 'missing',\n",
       " 'home_ownership': 'missing',\n",
       " 'credit_score_1': 'missing',\n",
       " 'credit_score_2': 'missing',\n",
       " 'credit_score_3': 'missing'}"
      ]
     },
     "execution_count": 37,
     "metadata": {},
     "output_type": "execute_result"
    }
   ],
   "source": [
    "# Create a dictionary with the variables to impute as keys and the string \"missing\" as value\n",
    "\n",
    "imputation_cat_dict = {var: \"missing\" for var in var_cat_na}\n",
    "imputation_cat_dict"
   ]
  },
  {
   "cell_type": "code",
   "execution_count": 38,
   "id": "0453c950",
   "metadata": {},
   "outputs": [],
   "source": [
    "# Impute missing data in categorical variables\n",
    "\n",
    "X_train.fillna(value=imputation_cat_dict, inplace=True)\n",
    "X_test.fillna(value=imputation_cat_dict, inplace=True)"
   ]
  },
  {
   "cell_type": "code",
   "execution_count": 39,
   "id": "da0428fd",
   "metadata": {},
   "outputs": [
    {
     "data": {
      "text/plain": [
       "gender                 0\n",
       "education              0\n",
       "marital_status         0\n",
       "employment_status      0\n",
       "employment_duration    0\n",
       "work_experience        0\n",
       "occupation             0\n",
       "home_ownership         0\n",
       "credit_score_1         0\n",
       "credit_score_2         0\n",
       "credit_score_3         0\n",
       "dtype: int64"
      ]
     },
     "execution_count": 39,
     "metadata": {},
     "output_type": "execute_result"
    }
   ],
   "source": [
    "X_test[var_cat_na].isnull().sum()"
   ]
  },
  {
   "cell_type": "markdown",
   "id": "7e634d93",
   "metadata": {},
   "source": [
    "### Group Infrequent Categories\n",
    "\n",
    "Some of the categorical variables accept values that are very rare. For example, our main customer base speaks Estonian, Finnish, Spanish, and Russian. But since we do accept applications from all over Europe, some other languages can also be taken as input. As a result, only a small percentage of customers speak languages other than those listed above. And in addition, future customers may speak a language that we currently do not have in our data set. Thus, we would like to group infrequent values into one single category, called \"rare.\"\n",
    "\n",
    "Please group categories that are present in less than 5% of the observations into a single value for the following variables:\n",
    "\n",
    "language\n",
    "\n",
    "use_of_loan\n",
    "\n",
    "occupation\n",
    "\n",
    "home_ownership\n",
    "\n",
    "credit_score_1\n",
    "\n",
    "credit_score_2\n",
    "\n",
    "credit_score_3"
   ]
  },
  {
   "cell_type": "code",
   "execution_count": 40,
   "id": "a526aa2a",
   "metadata": {},
   "outputs": [],
   "source": [
    "# Create a list with the names of the categorical variables that need category grouping\n",
    "\n",
    "vars_group = [\n",
    "    'language',\n",
    "    'use_of_loan',\n",
    "    'occupation',\n",
    "    'home_ownership',\n",
    "    'credit_score_1',\n",
    "    'credit_score_2',\n",
    "    'credit_score_3',\n",
    "]"
   ]
  },
  {
   "cell_type": "code",
   "execution_count": 41,
   "id": "6c5fd66d",
   "metadata": {},
   "outputs": [],
   "source": [
    "# Create a dictionary containing the variables from previous step as keys and a list \n",
    "# with the categories present in more than 5% of the observations as values\n",
    "\n",
    "frequent_cat_dict = {}\n",
    " \n",
    "for var in vars_group:\n",
    "    categories = X_train[var].value_counts(normalize=True)\n",
    "    categories = list(categories[categories > 0.05].index)\n",
    "    frequent_cat_dict[var] = categories"
   ]
  },
  {
   "cell_type": "code",
   "execution_count": 42,
   "id": "97d1dae5",
   "metadata": {},
   "outputs": [
    {
     "data": {
      "text/plain": [
       "{'language': ['estonian', 'finnish', 'spanish', 'russian'],\n",
       " 'use_of_loan': ['unknown', 'other', 'home_improvement', 'loan_consolidation'],\n",
       " 'occupation': ['missing', 'other', 'retail'],\n",
       " 'home_ownership': ['owner',\n",
       "  'tenant_furnished',\n",
       "  'living_with_parents',\n",
       "  'mortgage',\n",
       "  'tenant_unfurnished'],\n",
       " 'credit_score_1': ['missing', 'M', 'M1'],\n",
       " 'credit_score_2': ['missing', 'B'],\n",
       " 'credit_score_3': ['missing', 'RL2']}"
      ]
     },
     "execution_count": 42,
     "metadata": {},
     "output_type": "execute_result"
    }
   ],
   "source": [
    "frequent_cat_dict"
   ]
  },
  {
   "cell_type": "code",
   "execution_count": 44,
   "id": "26a70f85",
   "metadata": {},
   "outputs": [],
   "source": [
    "# Rename categories that are not present in the lists from previous step with the string \"Rare\"\n",
    "import numpy as np\n",
    "for var in vars_group:\n",
    "    X_train[var] = np.where(X_train[var].isin(\n",
    "        frequent_cat_dict[var]), X_train[var], \"Rare\")\n",
    " \n",
    "    X_test[var] = np.where(X_test[var].isin(\n",
    "        frequent_cat_dict[var]), X_test[var], \"Rare\")"
   ]
  },
  {
   "cell_type": "code",
   "execution_count": 45,
   "id": "c22ad87c",
   "metadata": {},
   "outputs": [
    {
     "data": {
      "text/plain": [
       "estonian    0.541959\n",
       "finnish     0.184973\n",
       "spanish     0.166277\n",
       "russian     0.093336\n",
       "Rare        0.013455\n",
       "Name: language, dtype: float64"
      ]
     },
     "execution_count": 45,
     "metadata": {},
     "output_type": "execute_result"
    }
   ],
   "source": [
    "X_test[\"language\"].value_counts(normalize=True)"
   ]
  },
  {
   "cell_type": "markdown",
   "id": "45c09238",
   "metadata": {},
   "source": [
    "### Encode categorical variables\n",
    "\n",
    "The Python implementation of lightGBM does not support strings as values. So you need to replace the category values of categorical variables with numbers.\n",
    "\n"
   ]
  },
  {
   "cell_type": "code",
   "execution_count": 47,
   "id": "a0deecf0",
   "metadata": {},
   "outputs": [
    {
     "data": {
      "text/plain": [
       "OrdinalEncoder()"
      ]
     },
     "execution_count": 47,
     "metadata": {},
     "output_type": "execute_result"
    }
   ],
   "source": [
    "# Import joblib and the ordinal encoder from scikit-learn\n",
    "\n",
    "import joblib\n",
    "from sklearn.preprocessing import OrdinalEncoder\n",
    "\n",
    "enc = OrdinalEncoder()\n",
    "enc.fit(X_train[vars_cat])"
   ]
  },
  {
   "cell_type": "code",
   "execution_count": 48,
   "id": "256a8b06",
   "metadata": {},
   "outputs": [],
   "source": [
    "# Encode categorical variables in train and test sets\n",
    "\n",
    "X_train[vars_cat] = enc.transform(X_train[vars_cat])\n",
    "X_test[vars_cat] = enc.transform(X_test[vars_cat])"
   ]
  },
  {
   "cell_type": "code",
   "execution_count": 49,
   "id": "070e2924",
   "metadata": {},
   "outputs": [
    {
     "data": {
      "text/html": [
       "<div>\n",
       "<style scoped>\n",
       "    .dataframe tbody tr th:only-of-type {\n",
       "        vertical-align: middle;\n",
       "    }\n",
       "\n",
       "    .dataframe tbody tr th {\n",
       "        vertical-align: top;\n",
       "    }\n",
       "\n",
       "    .dataframe thead th {\n",
       "        text-align: right;\n",
       "    }\n",
       "</style>\n",
       "<table border=\"1\" class=\"dataframe\">\n",
       "  <thead>\n",
       "    <tr style=\"text-align: right;\">\n",
       "      <th></th>\n",
       "      <th>income_verification</th>\n",
       "      <th>language</th>\n",
       "      <th>gender</th>\n",
       "      <th>country</th>\n",
       "      <th>use_of_loan</th>\n",
       "      <th>education</th>\n",
       "      <th>marital_status</th>\n",
       "      <th>employment_status</th>\n",
       "      <th>employment_duration</th>\n",
       "      <th>work_experience</th>\n",
       "      <th>occupation</th>\n",
       "      <th>home_ownership</th>\n",
       "      <th>credit_score_1</th>\n",
       "      <th>credit_score_2</th>\n",
       "      <th>credit_score_3</th>\n",
       "    </tr>\n",
       "  </thead>\n",
       "  <tbody>\n",
       "    <tr>\n",
       "      <th>11155</th>\n",
       "      <td>1.0</td>\n",
       "      <td>4.0</td>\n",
       "      <td>0.0</td>\n",
       "      <td>1.0</td>\n",
       "      <td>2.0</td>\n",
       "      <td>4.0</td>\n",
       "      <td>1.0</td>\n",
       "      <td>4.0</td>\n",
       "      <td>8.0</td>\n",
       "      <td>1.0</td>\n",
       "      <td>2.0</td>\n",
       "      <td>4.0</td>\n",
       "      <td>1.0</td>\n",
       "      <td>0.0</td>\n",
       "      <td>2.0</td>\n",
       "    </tr>\n",
       "    <tr>\n",
       "      <th>50730</th>\n",
       "      <td>0.0</td>\n",
       "      <td>4.0</td>\n",
       "      <td>0.0</td>\n",
       "      <td>1.0</td>\n",
       "      <td>3.0</td>\n",
       "      <td>1.0</td>\n",
       "      <td>4.0</td>\n",
       "      <td>1.0</td>\n",
       "      <td>8.0</td>\n",
       "      <td>1.0</td>\n",
       "      <td>0.0</td>\n",
       "      <td>4.0</td>\n",
       "      <td>1.0</td>\n",
       "      <td>0.0</td>\n",
       "      <td>2.0</td>\n",
       "    </tr>\n",
       "    <tr>\n",
       "      <th>35924</th>\n",
       "      <td>0.0</td>\n",
       "      <td>3.0</td>\n",
       "      <td>1.0</td>\n",
       "      <td>0.0</td>\n",
       "      <td>4.0</td>\n",
       "      <td>1.0</td>\n",
       "      <td>3.0</td>\n",
       "      <td>2.0</td>\n",
       "      <td>8.0</td>\n",
       "      <td>6.0</td>\n",
       "      <td>1.0</td>\n",
       "      <td>3.0</td>\n",
       "      <td>0.0</td>\n",
       "      <td>2.0</td>\n",
       "      <td>2.0</td>\n",
       "    </tr>\n",
       "    <tr>\n",
       "      <th>69230</th>\n",
       "      <td>0.0</td>\n",
       "      <td>1.0</td>\n",
       "      <td>1.0</td>\n",
       "      <td>0.0</td>\n",
       "      <td>0.0</td>\n",
       "      <td>4.0</td>\n",
       "      <td>4.0</td>\n",
       "      <td>1.0</td>\n",
       "      <td>5.0</td>\n",
       "      <td>0.0</td>\n",
       "      <td>0.0</td>\n",
       "      <td>4.0</td>\n",
       "      <td>3.0</td>\n",
       "      <td>2.0</td>\n",
       "      <td>2.0</td>\n",
       "    </tr>\n",
       "    <tr>\n",
       "      <th>35679</th>\n",
       "      <td>1.0</td>\n",
       "      <td>3.0</td>\n",
       "      <td>1.0</td>\n",
       "      <td>0.0</td>\n",
       "      <td>4.0</td>\n",
       "      <td>4.0</td>\n",
       "      <td>3.0</td>\n",
       "      <td>2.0</td>\n",
       "      <td>0.0</td>\n",
       "      <td>6.0</td>\n",
       "      <td>1.0</td>\n",
       "      <td>3.0</td>\n",
       "      <td>0.0</td>\n",
       "      <td>2.0</td>\n",
       "      <td>2.0</td>\n",
       "    </tr>\n",
       "  </tbody>\n",
       "</table>\n",
       "</div>"
      ],
      "text/plain": [
       "       income_verification  language  gender  country  use_of_loan  education  \\\n",
       "11155                  1.0       4.0     0.0      1.0          2.0        4.0   \n",
       "50730                  0.0       4.0     0.0      1.0          3.0        1.0   \n",
       "35924                  0.0       3.0     1.0      0.0          4.0        1.0   \n",
       "69230                  0.0       1.0     1.0      0.0          0.0        4.0   \n",
       "35679                  1.0       3.0     1.0      0.0          4.0        4.0   \n",
       "\n",
       "       marital_status  employment_status  employment_duration  \\\n",
       "11155             1.0                4.0                  8.0   \n",
       "50730             4.0                1.0                  8.0   \n",
       "35924             3.0                2.0                  8.0   \n",
       "69230             4.0                1.0                  5.0   \n",
       "35679             3.0                2.0                  0.0   \n",
       "\n",
       "       work_experience  occupation  home_ownership  credit_score_1  \\\n",
       "11155              1.0         2.0             4.0             1.0   \n",
       "50730              1.0         0.0             4.0             1.0   \n",
       "35924              6.0         1.0             3.0             0.0   \n",
       "69230              0.0         0.0             4.0             3.0   \n",
       "35679              6.0         1.0             3.0             0.0   \n",
       "\n",
       "       credit_score_2  credit_score_3  \n",
       "11155             0.0             2.0  \n",
       "50730             0.0             2.0  \n",
       "35924             2.0             2.0  \n",
       "69230             2.0             2.0  \n",
       "35679             2.0             2.0  "
      ]
     },
     "execution_count": 49,
     "metadata": {},
     "output_type": "execute_result"
    }
   ],
   "source": [
    "X_train[vars_cat].head(5)"
   ]
  },
  {
   "cell_type": "code",
   "execution_count": 50,
   "id": "d6dcf220",
   "metadata": {},
   "outputs": [
    {
     "data": {
      "text/plain": [
       "['encoder.pkl']"
      ]
     },
     "execution_count": 50,
     "metadata": {},
     "output_type": "execute_result"
    }
   ],
   "source": [
    "# Save encoder for later use\n",
    "joblib.dump(enc, \"encoder.pkl\")"
   ]
  },
  {
   "cell_type": "markdown",
   "id": "602bb14d",
   "metadata": {},
   "source": [
    "### Train and Evaluate a lightGBM\n",
    "\n",
    "Now that you have a fully preprocessed dataset containing transformed and new features, please go ahead and train and evaluate a lightGBM model.\n",
    "\n",
    "Using the Python API for lightGBM, set up and train a lightGBM model. To speed up training, use callbacks to stop the training if the performance does not improve after 3 iterations. Collect the training results in a dictionary so you can determine if the learning converged.\n",
    "\n",
    "To evaluate the model, please use the ROC-AUC and also create a full classification report containing the precision, recall, f1-score, and accuracy values."
   ]
  },
  {
   "cell_type": "code",
   "execution_count": 52,
   "id": "a14643ce",
   "metadata": {},
   "outputs": [
    {
     "name": "stdout",
     "output_type": "stream",
     "text": [
      "Requirement already satisfied: lightgbm in /Users/prataprc94/opt/anaconda3/lib/python3.8/site-packages (3.3.2)\n",
      "Requirement already satisfied: wheel in /Users/prataprc94/opt/anaconda3/lib/python3.8/site-packages (from lightgbm) (0.36.2)\n",
      "Requirement already satisfied: numpy in /Users/prataprc94/opt/anaconda3/lib/python3.8/site-packages (from lightgbm) (1.22.4)\n",
      "Requirement already satisfied: scipy in /Users/prataprc94/opt/anaconda3/lib/python3.8/site-packages (from lightgbm) (1.6.2)\n",
      "Requirement already satisfied: scikit-learn!=0.22.0 in /Users/prataprc94/opt/anaconda3/lib/python3.8/site-packages (from lightgbm) (1.0.2)\n",
      "Requirement already satisfied: joblib>=0.11 in /Users/prataprc94/opt/anaconda3/lib/python3.8/site-packages (from scikit-learn!=0.22.0->lightgbm) (1.0.1)\n",
      "Requirement already satisfied: threadpoolctl>=2.0.0 in /Users/prataprc94/opt/anaconda3/lib/python3.8/site-packages (from scikit-learn!=0.22.0->lightgbm) (2.1.0)\n"
     ]
    }
   ],
   "source": [
    "! pip install lightgbm"
   ]
  },
  {
   "cell_type": "code",
   "execution_count": 54,
   "id": "1868ac76",
   "metadata": {
    "collapsed": true
   },
   "outputs": [
    {
     "ename": "OSError",
     "evalue": "dlopen(/Users/prataprc94/opt/anaconda3/lib/python3.8/site-packages/lightgbm/lib_lightgbm.so, 0x0006): Library not loaded: /usr/local/opt/libomp/lib/libomp.dylib\n  Referenced from: /Users/prataprc94/opt/anaconda3/lib/python3.8/site-packages/lightgbm/lib_lightgbm.so\n  Reason: tried: '/usr/local/opt/libomp/lib/libomp.dylib' (no such file), '/usr/local/lib/libomp.dylib' (no such file), '/usr/lib/libomp.dylib' (no such file)",
     "output_type": "error",
     "traceback": [
      "\u001b[0;31m---------------------------------------------------------------------------\u001b[0m",
      "\u001b[0;31mOSError\u001b[0m                                   Traceback (most recent call last)",
      "\u001b[0;32m<ipython-input-54-2be28bbb2f2c>\u001b[0m in \u001b[0;36m<module>\u001b[0;34m\u001b[0m\n\u001b[1;32m      1\u001b[0m \u001b[0;31m# Import the lightGBM package and the metrics to evaluate the model\u001b[0m\u001b[0;34m\u001b[0m\u001b[0;34m\u001b[0m\u001b[0;34m\u001b[0m\u001b[0m\n\u001b[1;32m      2\u001b[0m \u001b[0;34m\u001b[0m\u001b[0m\n\u001b[0;32m----> 3\u001b[0;31m \u001b[0;32mimport\u001b[0m \u001b[0mlightgbm\u001b[0m \u001b[0;32mas\u001b[0m \u001b[0mlgb\u001b[0m\u001b[0;34m\u001b[0m\u001b[0;34m\u001b[0m\u001b[0m\n\u001b[0m\u001b[1;32m      4\u001b[0m \u001b[0;32mfrom\u001b[0m \u001b[0msklearn\u001b[0m\u001b[0;34m.\u001b[0m\u001b[0mmetrics\u001b[0m \u001b[0;32mimport\u001b[0m \u001b[0mroc_auc_score\u001b[0m\u001b[0;34m,\u001b[0m \u001b[0mclassification_report\u001b[0m\u001b[0;34m\u001b[0m\u001b[0;34m\u001b[0m\u001b[0m\n",
      "\u001b[0;32m~/opt/anaconda3/lib/python3.8/site-packages/lightgbm/__init__.py\u001b[0m in \u001b[0;36m<module>\u001b[0;34m\u001b[0m\n\u001b[1;32m      6\u001b[0m \u001b[0;32mfrom\u001b[0m \u001b[0mpathlib\u001b[0m \u001b[0;32mimport\u001b[0m \u001b[0mPath\u001b[0m\u001b[0;34m\u001b[0m\u001b[0;34m\u001b[0m\u001b[0m\n\u001b[1;32m      7\u001b[0m \u001b[0;34m\u001b[0m\u001b[0m\n\u001b[0;32m----> 8\u001b[0;31m \u001b[0;32mfrom\u001b[0m \u001b[0;34m.\u001b[0m\u001b[0mbasic\u001b[0m \u001b[0;32mimport\u001b[0m \u001b[0mBooster\u001b[0m\u001b[0;34m,\u001b[0m \u001b[0mDataset\u001b[0m\u001b[0;34m,\u001b[0m \u001b[0mSequence\u001b[0m\u001b[0;34m,\u001b[0m \u001b[0mregister_logger\u001b[0m\u001b[0;34m\u001b[0m\u001b[0;34m\u001b[0m\u001b[0m\n\u001b[0m\u001b[1;32m      9\u001b[0m \u001b[0;32mfrom\u001b[0m \u001b[0;34m.\u001b[0m\u001b[0mcallback\u001b[0m \u001b[0;32mimport\u001b[0m \u001b[0mearly_stopping\u001b[0m\u001b[0;34m,\u001b[0m \u001b[0mlog_evaluation\u001b[0m\u001b[0;34m,\u001b[0m \u001b[0mprint_evaluation\u001b[0m\u001b[0;34m,\u001b[0m \u001b[0mrecord_evaluation\u001b[0m\u001b[0;34m,\u001b[0m \u001b[0mreset_parameter\u001b[0m\u001b[0;34m\u001b[0m\u001b[0;34m\u001b[0m\u001b[0m\n\u001b[1;32m     10\u001b[0m \u001b[0;32mfrom\u001b[0m \u001b[0;34m.\u001b[0m\u001b[0mengine\u001b[0m \u001b[0;32mimport\u001b[0m \u001b[0mCVBooster\u001b[0m\u001b[0;34m,\u001b[0m \u001b[0mcv\u001b[0m\u001b[0;34m,\u001b[0m \u001b[0mtrain\u001b[0m\u001b[0;34m\u001b[0m\u001b[0;34m\u001b[0m\u001b[0m\n",
      "\u001b[0;32m~/opt/anaconda3/lib/python3.8/site-packages/lightgbm/basic.py\u001b[0m in \u001b[0;36m<module>\u001b[0;34m\u001b[0m\n\u001b[1;32m    108\u001b[0m \u001b[0;34m\u001b[0m\u001b[0m\n\u001b[1;32m    109\u001b[0m \u001b[0;34m\u001b[0m\u001b[0m\n\u001b[0;32m--> 110\u001b[0;31m \u001b[0m_LIB\u001b[0m \u001b[0;34m=\u001b[0m \u001b[0m_load_lib\u001b[0m\u001b[0;34m(\u001b[0m\u001b[0;34m)\u001b[0m\u001b[0;34m\u001b[0m\u001b[0;34m\u001b[0m\u001b[0m\n\u001b[0m\u001b[1;32m    111\u001b[0m \u001b[0;34m\u001b[0m\u001b[0m\n\u001b[1;32m    112\u001b[0m \u001b[0;34m\u001b[0m\u001b[0m\n",
      "\u001b[0;32m~/opt/anaconda3/lib/python3.8/site-packages/lightgbm/basic.py\u001b[0m in \u001b[0;36m_load_lib\u001b[0;34m()\u001b[0m\n\u001b[1;32m     99\u001b[0m     \u001b[0;32mif\u001b[0m \u001b[0mlen\u001b[0m\u001b[0;34m(\u001b[0m\u001b[0mlib_path\u001b[0m\u001b[0;34m)\u001b[0m \u001b[0;34m==\u001b[0m \u001b[0;36m0\u001b[0m\u001b[0;34m:\u001b[0m\u001b[0;34m\u001b[0m\u001b[0;34m\u001b[0m\u001b[0m\n\u001b[1;32m    100\u001b[0m         \u001b[0;32mreturn\u001b[0m \u001b[0;32mNone\u001b[0m\u001b[0;34m\u001b[0m\u001b[0;34m\u001b[0m\u001b[0m\n\u001b[0;32m--> 101\u001b[0;31m     \u001b[0mlib\u001b[0m \u001b[0;34m=\u001b[0m \u001b[0mctypes\u001b[0m\u001b[0;34m.\u001b[0m\u001b[0mcdll\u001b[0m\u001b[0;34m.\u001b[0m\u001b[0mLoadLibrary\u001b[0m\u001b[0;34m(\u001b[0m\u001b[0mlib_path\u001b[0m\u001b[0;34m[\u001b[0m\u001b[0;36m0\u001b[0m\u001b[0;34m]\u001b[0m\u001b[0;34m)\u001b[0m\u001b[0;34m\u001b[0m\u001b[0;34m\u001b[0m\u001b[0m\n\u001b[0m\u001b[1;32m    102\u001b[0m     \u001b[0mlib\u001b[0m\u001b[0;34m.\u001b[0m\u001b[0mLGBM_GetLastError\u001b[0m\u001b[0;34m.\u001b[0m\u001b[0mrestype\u001b[0m \u001b[0;34m=\u001b[0m \u001b[0mctypes\u001b[0m\u001b[0;34m.\u001b[0m\u001b[0mc_char_p\u001b[0m\u001b[0;34m\u001b[0m\u001b[0;34m\u001b[0m\u001b[0m\n\u001b[1;32m    103\u001b[0m     \u001b[0mcallback\u001b[0m \u001b[0;34m=\u001b[0m \u001b[0mctypes\u001b[0m\u001b[0;34m.\u001b[0m\u001b[0mCFUNCTYPE\u001b[0m\u001b[0;34m(\u001b[0m\u001b[0;32mNone\u001b[0m\u001b[0;34m,\u001b[0m \u001b[0mctypes\u001b[0m\u001b[0;34m.\u001b[0m\u001b[0mc_char_p\u001b[0m\u001b[0;34m)\u001b[0m\u001b[0;34m\u001b[0m\u001b[0;34m\u001b[0m\u001b[0m\n",
      "\u001b[0;32m~/opt/anaconda3/lib/python3.8/ctypes/__init__.py\u001b[0m in \u001b[0;36mLoadLibrary\u001b[0;34m(self, name)\u001b[0m\n\u001b[1;32m    457\u001b[0m \u001b[0;34m\u001b[0m\u001b[0m\n\u001b[1;32m    458\u001b[0m     \u001b[0;32mdef\u001b[0m \u001b[0mLoadLibrary\u001b[0m\u001b[0;34m(\u001b[0m\u001b[0mself\u001b[0m\u001b[0;34m,\u001b[0m \u001b[0mname\u001b[0m\u001b[0;34m)\u001b[0m\u001b[0;34m:\u001b[0m\u001b[0;34m\u001b[0m\u001b[0;34m\u001b[0m\u001b[0m\n\u001b[0;32m--> 459\u001b[0;31m         \u001b[0;32mreturn\u001b[0m \u001b[0mself\u001b[0m\u001b[0;34m.\u001b[0m\u001b[0m_dlltype\u001b[0m\u001b[0;34m(\u001b[0m\u001b[0mname\u001b[0m\u001b[0;34m)\u001b[0m\u001b[0;34m\u001b[0m\u001b[0;34m\u001b[0m\u001b[0m\n\u001b[0m\u001b[1;32m    460\u001b[0m \u001b[0;34m\u001b[0m\u001b[0m\n\u001b[1;32m    461\u001b[0m \u001b[0mcdll\u001b[0m \u001b[0;34m=\u001b[0m \u001b[0mLibraryLoader\u001b[0m\u001b[0;34m(\u001b[0m\u001b[0mCDLL\u001b[0m\u001b[0;34m)\u001b[0m\u001b[0;34m\u001b[0m\u001b[0;34m\u001b[0m\u001b[0m\n",
      "\u001b[0;32m~/opt/anaconda3/lib/python3.8/ctypes/__init__.py\u001b[0m in \u001b[0;36m__init__\u001b[0;34m(self, name, mode, handle, use_errno, use_last_error, winmode)\u001b[0m\n\u001b[1;32m    379\u001b[0m \u001b[0;34m\u001b[0m\u001b[0m\n\u001b[1;32m    380\u001b[0m         \u001b[0;32mif\u001b[0m \u001b[0mhandle\u001b[0m \u001b[0;32mis\u001b[0m \u001b[0;32mNone\u001b[0m\u001b[0;34m:\u001b[0m\u001b[0;34m\u001b[0m\u001b[0;34m\u001b[0m\u001b[0m\n\u001b[0;32m--> 381\u001b[0;31m             \u001b[0mself\u001b[0m\u001b[0;34m.\u001b[0m\u001b[0m_handle\u001b[0m \u001b[0;34m=\u001b[0m \u001b[0m_dlopen\u001b[0m\u001b[0;34m(\u001b[0m\u001b[0mself\u001b[0m\u001b[0;34m.\u001b[0m\u001b[0m_name\u001b[0m\u001b[0;34m,\u001b[0m \u001b[0mmode\u001b[0m\u001b[0;34m)\u001b[0m\u001b[0;34m\u001b[0m\u001b[0;34m\u001b[0m\u001b[0m\n\u001b[0m\u001b[1;32m    382\u001b[0m         \u001b[0;32melse\u001b[0m\u001b[0;34m:\u001b[0m\u001b[0;34m\u001b[0m\u001b[0;34m\u001b[0m\u001b[0m\n\u001b[1;32m    383\u001b[0m             \u001b[0mself\u001b[0m\u001b[0;34m.\u001b[0m\u001b[0m_handle\u001b[0m \u001b[0;34m=\u001b[0m \u001b[0mhandle\u001b[0m\u001b[0;34m\u001b[0m\u001b[0;34m\u001b[0m\u001b[0m\n",
      "\u001b[0;31mOSError\u001b[0m: dlopen(/Users/prataprc94/opt/anaconda3/lib/python3.8/site-packages/lightgbm/lib_lightgbm.so, 0x0006): Library not loaded: /usr/local/opt/libomp/lib/libomp.dylib\n  Referenced from: /Users/prataprc94/opt/anaconda3/lib/python3.8/site-packages/lightgbm/lib_lightgbm.so\n  Reason: tried: '/usr/local/opt/libomp/lib/libomp.dylib' (no such file), '/usr/local/lib/libomp.dylib' (no such file), '/usr/lib/libomp.dylib' (no such file)"
     ]
    }
   ],
   "source": [
    "# Import the lightGBM package and the metrics to evaluate the model\n",
    "\n",
    "import lightgbm as lgb\n",
    "from sklearn.metrics import roc_auc_score, classification_report"
   ]
  },
  {
   "cell_type": "code",
   "execution_count": null,
   "id": "045d1771",
   "metadata": {},
   "outputs": [],
   "source": [
    "# Set up the lightGM model\n",
    "\n",
    "gbm = lgb.LGBMClassifier(\n",
    "    num_iterations=1000,\n",
    "    random_state=seed,\n",
    ")"
   ]
  },
  {
   "cell_type": "code",
   "execution_count": null,
   "id": "f8bb78db",
   "metadata": {},
   "outputs": [],
   "source": [
    "# Create a dictionary to collect the training results\n",
    "\n",
    "evals_result = {}"
   ]
  },
  {
   "cell_type": "code",
   "execution_count": null,
   "id": "fd2e88db",
   "metadata": {},
   "outputs": [],
   "source": [
    "# Train the model\n",
    "\n",
    "gbm.fit(\n",
    "    X_train,\n",
    "    y_train,\n",
    "    eval_set=[(X_test, y_test)],\n",
    "    categorical_feature=vars_cat,\n",
    "    callbacks=[\n",
    "        lgb.early_stopping(3),\n",
    "        lgb.record_evaluation(evals_result),\n",
    "    ],\n",
    ")"
   ]
  },
  {
   "cell_type": "code",
   "execution_count": null,
   "id": "c7fab347",
   "metadata": {},
   "outputs": [],
   "source": [
    "# Plot the values of the binary log loss collected in the dictionary from previous step\n",
    "\n",
    "ax = lgb.plot_metric(evals_result, metric='binary_logloss')\n",
    " \n",
    "plt.show()"
   ]
  },
  {
   "cell_type": "markdown",
   "id": "22c02077",
   "metadata": {},
   "source": [
    "> the values of the binary log loss obtained after each iteration of training the lightGBM. The values reach a plateau at higher iterations, suggesting that the learning converged at a minimum of the optimization function:"
   ]
  },
  {
   "cell_type": "code",
   "execution_count": 55,
   "id": "734afd2a",
   "metadata": {
    "collapsed": true
   },
   "outputs": [
    {
     "ename": "NameError",
     "evalue": "name 'gbm' is not defined",
     "output_type": "error",
     "traceback": [
      "\u001b[0;31m---------------------------------------------------------------------------\u001b[0m",
      "\u001b[0;31mNameError\u001b[0m                                 Traceback (most recent call last)",
      "\u001b[0;32m<ipython-input-55-c682bf66fd0d>\u001b[0m in \u001b[0;36m<module>\u001b[0;34m\u001b[0m\n\u001b[1;32m      1\u001b[0m \u001b[0;31m# Calculate the probability of default in train and test sets\u001b[0m\u001b[0;34m\u001b[0m\u001b[0;34m\u001b[0m\u001b[0;34m\u001b[0m\u001b[0m\n\u001b[1;32m      2\u001b[0m \u001b[0;34m\u001b[0m\u001b[0m\n\u001b[0;32m----> 3\u001b[0;31m \u001b[0mpred_train\u001b[0m \u001b[0;34m=\u001b[0m \u001b[0mgbm\u001b[0m\u001b[0;34m.\u001b[0m\u001b[0mpredict_proba\u001b[0m\u001b[0;34m(\u001b[0m\u001b[0mX_train\u001b[0m\u001b[0;34m)\u001b[0m\u001b[0;34m[\u001b[0m\u001b[0;34m:\u001b[0m\u001b[0;34m,\u001b[0m \u001b[0;36m1\u001b[0m\u001b[0;34m]\u001b[0m\u001b[0;34m\u001b[0m\u001b[0;34m\u001b[0m\u001b[0m\n\u001b[0m\u001b[1;32m      4\u001b[0m \u001b[0mpred_test\u001b[0m \u001b[0;34m=\u001b[0m \u001b[0mgbm\u001b[0m\u001b[0;34m.\u001b[0m\u001b[0mpredict_proba\u001b[0m\u001b[0;34m(\u001b[0m\u001b[0mX_test\u001b[0m\u001b[0;34m)\u001b[0m\u001b[0;34m[\u001b[0m\u001b[0;34m:\u001b[0m\u001b[0;34m,\u001b[0m \u001b[0;36m1\u001b[0m\u001b[0;34m]\u001b[0m\u001b[0;34m\u001b[0m\u001b[0;34m\u001b[0m\u001b[0m\n",
      "\u001b[0;31mNameError\u001b[0m: name 'gbm' is not defined"
     ]
    }
   ],
   "source": [
    "# Calculate the probability of default in train and test sets\n",
    "\n",
    "pred_train = gbm.predict_proba(X_train)[:, 1]\n",
    "pred_test = gbm.predict_proba(X_test)[:, 1]"
   ]
  },
  {
   "cell_type": "code",
   "execution_count": null,
   "id": "457804b8",
   "metadata": {},
   "outputs": [],
   "source": [
    "# Calculate the ROC-AUC\n",
    "\n",
    "roc_train = roc_auc_score(y_train, pred_train)\n",
    "roc_test = roc_auc_score(y_test, pred_test)"
   ]
  },
  {
   "cell_type": "code",
   "execution_count": null,
   "id": "a9e0e961",
   "metadata": {},
   "outputs": [],
   "source": [
    "# Print out the ROC-AUC values\n",
    "\n",
    "print(f\"Train set roc-auc: {roc_train}\")\n",
    "print(f\"Eval set roc-auc: {roc_test}\")"
   ]
  },
  {
   "cell_type": "code",
   "execution_count": null,
   "id": "dff60da4",
   "metadata": {},
   "outputs": [],
   "source": [
    "# Predict if the customers will default in train and test sets\n",
    "\n",
    "pred_train = gbm.predict(X_train)\n",
    "pred_test = gbm.predict(X_test)"
   ]
  },
  {
   "cell_type": "code",
   "execution_count": null,
   "id": "a42f5b28",
   "metadata": {},
   "outputs": [],
   "source": [
    "# Calculate the full classification report\n",
    "\n",
    "cr_train = classification_report(y_train, pred_train)\n",
    "cr_test = classification_report(y_test, pred_test)"
   ]
  },
  {
   "cell_type": "code",
   "execution_count": null,
   "id": "da073e3d",
   "metadata": {},
   "outputs": [],
   "source": [
    "# Print out the classification reports\n",
    "\n",
    "print(f\"Train set:\\n {cr_train}\")\n",
    "print(f\"Eval set:\\n {cr_test}\")"
   ]
  },
  {
   "cell_type": "code",
   "execution_count": null,
   "id": "61a18da6",
   "metadata": {},
   "outputs": [],
   "source": [
    "# Save model for later\n",
    "\n",
    "joblib.dump(gbm, \"lightGBM.pkl\")"
   ]
  },
  {
   "cell_type": "markdown",
   "id": "58986c0e",
   "metadata": {},
   "source": [
    "### Evaluate feature importance\n",
    "\n",
    "We'd like to understand which features are useful to predict credit risk. To get a broad overview of feature importance, we'd like to evaluate features with more than one method. To begin, please determine the feature importance returned by the lightGBM. Then evaluate the feature's importance by permutation. This method consists of randomly shuffling the values of each feature, one at a time, then obtaining predictions utilizing the shuffled feature and determining the drop in performance, if any, caused by the permutation.\n",
    "\n",
    "Finally, train single-feature classifiers and determine if each feature, individually, returns a model that outputs predictions that are better than returning a random guess. Use simple decision trees as classifiers, and the ROC-AUC as a performance metric."
   ]
  },
  {
   "cell_type": "code",
   "execution_count": null,
   "id": "55aaf475",
   "metadata": {},
   "outputs": [],
   "source": [
    "# Plot the feature importance according to the lightGBM\n",
    "\n",
    "ax = lgb.plot_importance(gbm, figsize=(15, 10))\n",
    "plt.show()"
   ]
  },
  {
   "cell_type": "code",
   "execution_count": null,
   "id": "f0ba5d7c",
   "metadata": {},
   "outputs": [],
   "source": [
    "# Import the permutation_importance from scikit-learn\n",
    "\n",
    "from sklearn.inspection import permutation_importance"
   ]
  },
  {
   "cell_type": "code",
   "execution_count": null,
   "id": "579af49d",
   "metadata": {},
   "outputs": [],
   "source": [
    "# Determine the drop in performance generated by randomly shuffling the values of each feature\n",
    "\n",
    "result = permutation_importance(\n",
    "    gbm,\n",
    "    X_test,\n",
    "    y_test,\n",
    "    scoring=\"roc_auc\",\n",
    "    n_repeats=3,\n",
    "    random_state=seed,\n",
    ")"
   ]
  },
  {
   "cell_type": "code",
   "execution_count": null,
   "id": "d97f844f",
   "metadata": {},
   "outputs": [],
   "source": [
    "# Plot the drop in performance induced by permutation of each feature in descending order\n",
    "\n",
    "result = pd.Series(result.importances_mean, index=X_train.columns)\n",
    "result.sort_values(ascending=False).plot.bar(figsize=(20, 6))\n",
    "plt.ylabel(\"permutation importance\")"
   ]
  },
  {
   "cell_type": "code",
   "execution_count": null,
   "id": "53db1f81",
   "metadata": {},
   "outputs": [],
   "source": [
    "# Identify all features that caused any drop in performance when shuffled\n",
    "\n",
    "feature_subset_1 = list((result>0).index)\n",
    "print(len(feature_subset_1))\n",
    "feature_subset_1"
   ]
  },
  {
   "cell_type": "markdown",
   "id": "b23d8788",
   "metadata": {},
   "source": [
    "> The previous code block returns the name of the 41 input features. This means that shuffling every single feature in the test set, caused a decrease in the observed performance. Hence, all features are important"
   ]
  },
  {
   "cell_type": "code",
   "execution_count": null,
   "id": "37ce15b2",
   "metadata": {},
   "outputs": [],
   "source": [
    "# Import the decision tree classifier and the cross validation function from scikit-learn\n",
    "\n",
    "from sklearn.tree import DecisionTreeClassifier\n",
    "from sklearn.model_selection import cross_validate"
   ]
  },
  {
   "cell_type": "code",
   "execution_count": null,
   "id": "d46678ab",
   "metadata": {},
   "outputs": [],
   "source": [
    "# Set up a decision tree classifier\n",
    "\n",
    "clf = DecisionTreeClassifier(random_state=seed)\n",
    "\n",
    "# Create a dictionary to store the performance of each model trained on a single feature\n",
    "\n",
    "result = {}"
   ]
  },
  {
   "cell_type": "code",
   "execution_count": null,
   "id": "25875322",
   "metadata": {},
   "outputs": [],
   "source": [
    "# Create a classifier that takes every single feature as input, \n",
    "# and evaluate its performance using the ROC-AUC as metric with cross-validation\n",
    "\n",
    "# Loop over every feature\n",
    "for var in X_train.columns:\n",
    "    \n",
    "    # Train and evaluate a classifier with crossvalidation\n",
    "    tmp = cross_validate(\n",
    "        clf,\n",
    "        X_train[var].to_frame(),\n",
    "        y_train,\n",
    "        cv=3,\n",
    "        scoring=\"roc_auc\",\n",
    "    )\n",
    "    \n",
    "    # Store the result\n",
    "    result[var] = tmp[\"test_score\"].mean()"
   ]
  },
  {
   "cell_type": "code",
   "execution_count": null,
   "id": "538d7562",
   "metadata": {},
   "outputs": [],
   "source": [
    "# Plot the ROC-AUC returned by every single feature classifier\n",
    "\n",
    "result = pd.Series(result, index=X_train.columns)\n",
    "result.sort_values(ascending=False).plot.bar(figsize=(20, 6))\n",
    "plt.ylabel(\"permutation importance\")"
   ]
  },
  {
   "cell_type": "code",
   "execution_count": null,
   "id": "d51c0982",
   "metadata": {},
   "outputs": [],
   "source": [
    "# Determine if there are features that returned random classifiers\n",
    "\n",
    "feature_subset_2 = list((result>0.5).index)\n",
    "print(len(feature_subset_2))"
   ]
  },
  {
   "cell_type": "markdown",
   "id": "3e46e761",
   "metadata": {},
   "source": [
    "> The previous code block returns the name of the 41 input features:\n",
    "\n",
    "> Every feature returned a decision tree whose ROC-AUC was greater than 0.5. ROC-AUC values of 0.5 represent random guesses. Hence, using single feature classifiers we corroborate that all features are important to assess credit risk."
   ]
  },
  {
   "cell_type": "markdown",
   "id": "f5fffc4c",
   "metadata": {},
   "source": [
    "### create an end-to-end feature engineering pipeline\n",
    "\n",
    "put all your feature transformation and creation steps in a clean pipeline that we could use to score any data set or data coming through our platform whenever a customer creates a loan application.\n",
    "\n",
    "The basic idea of the pipeline is that it takes the raw data and returns a fully preprocessed data set with input features ready to be used by the lightGBM to make the predictions."
   ]
  },
  {
   "cell_type": "markdown",
   "id": "bd0ae389",
   "metadata": {},
   "source": [
    "Please start on a clean notebook so that we can have a clean copy of the entire pipeline to smooth deployment later on. ---> ML_Pipeline_for_Credit_Risk_Analysis"
   ]
  }
 ],
 "metadata": {
  "kernelspec": {
   "display_name": "Python 3",
   "language": "python",
   "name": "python3"
  },
  "language_info": {
   "codemirror_mode": {
    "name": "ipython",
    "version": 3
   },
   "file_extension": ".py",
   "mimetype": "text/x-python",
   "name": "python",
   "nbconvert_exporter": "python",
   "pygments_lexer": "ipython3",
   "version": "3.8.8"
  }
 },
 "nbformat": 4,
 "nbformat_minor": 5
}
